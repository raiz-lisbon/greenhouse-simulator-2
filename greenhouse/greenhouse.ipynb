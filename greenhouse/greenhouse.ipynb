{
 "cells": [
  {
   "cell_type": "code",
   "execution_count": null,
   "metadata": {
    "cell_id": "00000-64124d64-5d00-4861-8044-6e83d517e72e",
    "deepnote_cell_type": "code",
    "deepnote_output_heights": [
     null,
     155.5
    ],
    "deepnote_to_be_reexecuted": false,
    "execution_millis": 3092,
    "is_code_hidden": false,
    "source_hash": "aa5f07f0",
    "tags": []
   },
   "outputs": [],
   "source": [
    "import traceback\n",
    "import pandas as pd\n",
    "from scipy.integrate import odeint, solve_ivp\n",
    "from scipy.interpolate import interp1d, InterpolatedUnivariateSpline, UnivariateSpline, splprep, splev, SmoothBivariateSpline\n",
    "from scipy.ndimage.filters import uniform_filter1d\n",
    "import matplotlib.pyplot as plt\n",
    "\n",
    "\n",
    "%env USING_RUN True\n",
    "\n",
    "%run /work/greenhouse-simulator-2/greenhouse/adaptive_lighting/adaptive_lighting.ipynb import AdaptiveLighting\n",
    "%run /work/greenhouse-simulator-2/greenhouse/adaptive_lighting/solarpanel.ipynb import SolarPanel\n",
    "%run /work/greenhouse-simulator-2/greenhouse/heatpump/heatpump.ipynb import HeatPump\n",
    "%run /work/greenhouse-simulator-2/greenhouse/fan/fan.ipynb import Fan\n",
    "%run /work/greenhouse-simulator-2/greenhouse/structure/structure.ipynb import Structure\n",
    "%run /work/greenhouse-simulator-2/greenhouse/dehumidifier/dehumidifier.ipynb import Dehumidifier\n",
    "%run /work/greenhouse-simulator-2/crops/sweet_basil.ipynb import SweetBasil\n",
    "\n",
    "\n",
    "import sys\n",
    "sys.path.insert(0, '/work/greenhouse-simulator-2/')\n",
    "\n",
    "from helpers.cost import *\n",
    "from helpers.types import *\n",
    "from helpers.conversions import *\n",
    "from helpers.solar_conversions import *\n",
    "from greenhouse.greenhouse import *\n",
    "from greenhouse.adaptive_lighting import *"
   ]
  },
  {
   "cell_type": "code",
   "execution_count": null,
   "metadata": {
    "cell_id": "00000-3963b194-75ce-4370-9f02-99dee6226d75",
    "deepnote_cell_type": "code",
    "deepnote_output_heights": [
     78.75
    ],
    "deepnote_to_be_reexecuted": false,
    "execution_millis": 44,
    "is_code_hidden": false,
    "source_hash": "48eb0d07",
    "tags": []
   },
   "outputs": [],
   "source": [
    "class Greenhouse:\n",
    "    def __init__(self, \n",
    "        resample_period: s,\n",
    "        airflow_mode=\"CONST:0.1\",\n",
    "        max_temp=27,\n",
    "        block_sunlight=False,\n",
    "        roof_panel_type=\"polycarbonate\"\n",
    "    ):\n",
    "        self.time_period: s = pd.to_timedelta(resample_period).total_seconds()\n",
    "        self.airflow_mode: str = airflow_mode\n",
    "        self.max_temp: C = max_temp\n",
    "        self.block_sunlight = block_sunlight\n",
    "\n",
    "        # Init subsystems\n",
    "        self.structure = Structure(roof_panel_type=roof_panel_type)\n",
    "        self.dehumidifier = Dehumidifier()\n",
    "        self.heatpump = HeatPump()\n",
    "        self.fan = Fan()\n",
    "        self.crop = SweetBasil(\n",
    "            time_period=self.time_period, \n",
    "            plants_per_barrel=self.structure.plants_per_barrel, \n",
    "            barrel_count=self.structure.barrel_count\n",
    "        )\n",
    "        self.light = AdaptiveLighting(self.time_period, self.structure, self.crop, roof_panel_type=roof_panel_type)\n",
    "\n",
    "        # Init register to store previous period's values\n",
    "        self.prev_period = {\n",
    "            \"humidity_ratio\": 0.0085881067, # 70 RH at 1 bar and 25 Celsius\n",
    "            \"temp\": 17,\n",
    "            \"CO2_concentration\": 410,\n",
    "        }\n",
    "\n",
    "        self.prev_airflows_at_t_steps = []\n",
    "\n",
    "\n",
    "    def run(self, timestamp, data):\n",
    "        # SECTION 1: Get input from solar radiation\n",
    "        # Get distribution of irradiance on different panels (solar and non-solar) of the greenhouse (factoring in sun position, tilt and azimuth angles)\n",
    "        results: [W, W_per_m2] = self.structure.get_irradiance_by_panel_type(timestamp, data.solarradiation)\n",
    "        solar_power_on_nonsolar_panels, irradiance_on_solar_panels = results\n",
    "\n",
    "        # Get electrical energy generated and heat irradiated to the greenhouse\n",
    "        results: [W, W, W_per_m2] = self.light.solarpanel.run(irradiance_on_solar_panels)\n",
    "        solar_power_generated, solar_power_transmitted, transmitted_irradiance, transparency, _ = results\n",
    "        solar_energy_generated: kWh = J_to_kWh(solar_power_generated * self.time_period)\n",
    "\n",
    "        # Add energy from non-solar panels and portion of energy transmitted by solar panels to get total heat entering the greenhouse\n",
    "        heat_transfer_rate_inside: W = solar_power_on_nonsolar_panels + solar_power_transmitted\n",
    "\n",
    "        if self.block_sunlight:\n",
    "            heat_transfer_rate_inside = 0\n",
    "            transmitted_irradiance = 0\n",
    "\n",
    "        # Calculate energy used for lighting\n",
    "        PPFD: umol_per_m2_s = irradiance_to_PPFD(transmitted_irradiance)\n",
    "        PAR_inside: umol_per_m2 = PPFD * self.time_period\n",
    "        lighting_results = self.light.run(timestamp, PAR_inside)\n",
    "\n",
    "        # SECTION 2: Grow plants\n",
    "        results: [mol_per_s, mol, mol_per_s, mol] = self.crop.grow(1e-6 * lighting_results[\"actual_PPFD_umol_per_m2_s\"] * self.time_period)\n",
    "        CO2_assimilation_rate, CO2_assimilated, H20_evaporation_rate, H2O_evaporated = results\n",
    "\n",
    "        # SECTION 3: Deal with resulting CO2, water, heat\n",
    "        # Calculate net energy\n",
    "        total_energy_used: kWh = lighting_results[\"energy_used_by_lighting_kWh\"] #+ energy_for_dehumidification + energy_for_heating\n",
    "        total_energy_generated: kWh = solar_energy_generated\n",
    "        net_energy: kWh = total_energy_generated - total_energy_used\n",
    "\n",
    "        input_values = {\n",
    "            \"H2O_mass_evaporation_rate\": 18 * H20_evaporation_rate, # 18: molar mass of H20\n",
    "            \"CO2_assimilation_rate\": CO2_assimilation_rate,\n",
    "            \"ambient_data\": data, \n",
    "            \"power_irradiated\": transmitted_irradiance * self.structure.irradiated_area,\n",
    "            \"get_heat_transfer_rate\": self.structure.get_heat_transfer_rate,\n",
    "            \"structure_volume\": self.structure.volume\n",
    "        }\n",
    "\n",
    "        airflow_results = self.register_airflow(input_values)\n",
    "\n",
    "        energy_used_by_dehum_J, _ = self.dehumidifier.run(airflow_results[\"dehum_rate_g_per_s\"] * self.time_period)\n",
    "        \n",
    "        return {\n",
    "            \"natural_PPFD\": PPFD,\n",
    "            \"total_energy_used_kWh\": total_energy_used,\n",
    "            \"total_energy_generated_kWh\": total_energy_generated,\n",
    "            \"net_energy_kWh\": net_energy,\n",
    "\n",
    "            \"CO2_assimilation_rate_umol_per_s\": CO2_assimilated / self.time_period * 1e6,\n",
    "\n",
    "            **lighting_results,\n",
    "            **airflow_results,\n",
    "            \n",
    "            \"ambient_humidity\": data.humidity,\n",
    "            \"ambient_temp\": data.temp,\n",
    "\n",
    "            \"energy_used_by_fan_J\": self.fan.get_energy_usage(airflow_results[\"airflow_m3_per_s\"] * self.time_period),\n",
    "            \"energy_used_by_heating_J\": self.heatpump.get_energy_usage(airflow_results[\"heating_rate_J_per_s\"] * self.time_period),\n",
    "            \"energy_used_by_dehum_J\": energy_used_by_dehum_J,\n",
    "        }\n",
    "\n",
    "    def register_airflow(self, input_values):\n",
    "        # Set up initial values for odeint\n",
    "        init_values = [\n",
    "            self.prev_period[\"humidity_ratio\"], \n",
    "            self.prev_period[\"temp\"], \n",
    "            self.prev_period[\"CO2_concentration\"]\n",
    "        ]\n",
    "\n",
    "        # List of dicts where the t values and control signals of each integration steps can be stored\n",
    "        control_register = []\n",
    "\n",
    "        # Set up timesteps for odeint (we are interested only in the last one)\n",
    "        t_steps = np.linspace(0, self.time_period, 15)\n",
    "        t_max = t_steps[-1]\n",
    "\n",
    "        # Solve diff equations\n",
    "        results = solve_ivp(\n",
    "            airflow_model, \n",
    "            (0, t_max,), \n",
    "            init_values, \n",
    "            t_eval=t_steps, \n",
    "            method=\"BDF\", \n",
    "            dense_output=True, \n",
    "            args=(t_max, input_values, control_register, self.prev_airflows_at_t_steps, self.airflow_mode, self.max_temp)\n",
    "        )\n",
    "\n",
    "        new_humidity_ratio, new_temp, new_CO2_concentration = results[\"y\"].T[-1]\n",
    "\n",
    "        pressure: Pa = 101325 # TODO: get this from weather data\n",
    "        new_humidity: RH = psychrolib.GetRelHumFromHumRatio(new_temp, new_humidity_ratio, pressure) * 100\n",
    "\n",
    "        # Since solve_ivp calculates the steps randomly, needs to be sorted based on t\n",
    "        control_register = sorted(control_register, key=lambda x: x[\"t\"])\n",
    "\n",
    "        # Set up and call interpolation function to get control values at t_max\n",
    "        control_results = {}\n",
    "        control_t_values = [x[\"t\"] for x in control_register]\n",
    "        for control_type in control_register[0]:\n",
    "            control_results[control_type] = control_register[-1][control_type]\n",
    "\n",
    "        # Set new values as starting values for next period\n",
    "        self.prev_period[\"humidity_ratio\"] = new_humidity_ratio\n",
    "        self.prev_period[\"temp\"] = new_temp\n",
    "        self.prev_period[\"CO2_concentration\"] = new_CO2_concentration\n",
    "\n",
    "        return {\n",
    "            \"humidity\": new_humidity,\n",
    "            \"humidity_ratio\": new_humidity_ratio,\n",
    "            \"temp\": new_temp,\n",
    "            \"CO2_concentration\": new_CO2_concentration,\n",
    "            **control_results,\n",
    "        }\n",
    "\n"
   ]
  },
  {
   "cell_type": "markdown",
   "metadata": {
    "cell_id": "00002-e10c4ba4-4fe9-4282-b1da-e67767b27c38",
    "deepnote_cell_type": "text-cell-h2",
    "is_collapsed": false,
    "tags": []
   },
   "source": [
    "## Execute"
   ]
  },
  {
   "cell_type": "code",
   "execution_count": null,
   "metadata": {
    "cell_id": "00003-182cc219-edd3-4710-8d5b-074a89409fce",
    "deepnote_cell_type": "code",
    "deepnote_to_be_reexecuted": false,
    "execution_millis": 47,
    "is_code_hidden": false,
    "source_hash": "69466ceb",
    "tags": []
   },
   "outputs": [],
   "source": [
    "if not os.environ.get(\"USING_RUN\"):\n",
    "    is_long = False\n",
    "    if is_long:\n",
    "        resample_period = \"60min\"\n",
    "        df = get_weather_data(date_from=\"2020-01-01\", date_to=\"2020-12-31\", resample_period=resample_period)\n",
    "    else:\n",
    "        resample_period = \"15min\"\n",
    "        df = get_weather_data(date_from=\"2020-07-01\", date_to=\"2020-07-02\", resample_period=resample_period)"
   ]
  },
  {
   "cell_type": "code",
   "execution_count": null,
   "metadata": {
    "cell_id": "00002-0b0c41c9-a589-4926-96a6-5f18a489b206",
    "deepnote_cell_type": "code",
    "deepnote_output_heights": [
     309
    ],
    "deepnote_to_be_reexecuted": false,
    "execution_millis": 4548,
    "is_code_hidden": false,
    "source_hash": "7ca0850a",
    "tags": []
   },
   "outputs": [],
   "source": [
    "if not os.environ.get(\"USING_RUN\"):\n",
    "    time_period = pd.to_timedelta(resample_period).total_seconds()\n",
    "\n",
    "    greenhouse = Greenhouse(\n",
    "        time_period = time_period,\n",
    "    )\n",
    "\n",
    "    for timestamp, row in df.iterrows():\n",
    "        try:\n",
    "            results = greenhouse.run(timestamp, row)\n",
    "        except Exception as e:\n",
    "            traceback.print_exc()\n",
    "            break\n",
    "\n",
    "        for col in results.keys():\n",
    "            df.loc[timestamp, col] = results[col]"
   ]
  },
  {
   "cell_type": "markdown",
   "metadata": {
    "cell_id": "2fa40c83-c3ab-4b01-99e8-eeb34f836068",
    "deepnote_cell_type": "text-cell-h2",
    "is_collapsed": false,
    "tags": []
   },
   "source": [
    "## Visualize"
   ]
  },
  {
   "cell_type": "code",
   "execution_count": null,
   "metadata": {
    "cell_id": "00006-4bfb76aa-2324-45d0-8b64-e86fa5ef0b56",
    "deepnote_cell_type": "code",
    "deepnote_output_heights": [
     310
    ],
    "deepnote_to_be_reexecuted": false,
    "execution_millis": 44,
    "is_code_hidden": false,
    "source_hash": "6693befc",
    "tags": []
   },
   "outputs": [],
   "source": [
    "if not os.environ.get(\"USING_RUN\"):\n",
    "    plot_multiline_dual_y(\n",
    "        df.resample('D').mean() if is_long else df, \n",
    "        [\"airflow_m3_per_s\"],\n",
    "        width=900, \n",
    "        height=235, \n",
    "        title=\"Airflow\", \n",
    "        y_labels=[\"m3 / s\", \"g / s\"], \n",
    "        legend_label=\"\", \n",
    "        date_format=\"\",\n",
    "        colors=[\"blue\", \"green\", \"orange\"]\n",
    "    )"
   ]
  },
  {
   "cell_type": "code",
   "execution_count": null,
   "metadata": {
    "cell_id": "00006-f1487089-16f1-48e3-a3b7-fc42e93a737a",
    "deepnote_cell_type": "code",
    "deepnote_output_heights": [
     308
    ],
    "deepnote_to_be_reexecuted": false,
    "execution_millis": 82,
    "is_code_hidden": false,
    "source_hash": "ee948d7b",
    "tags": []
   },
   "outputs": [],
   "source": [
    "if not os.environ.get(\"USING_RUN\"):\n",
    "    plot_multiline_dual_y(\n",
    "        df.resample('D').mean() if is_long else df, \n",
    "        [\"humidity\", \"ambient_humidity\", \"ambient_humidity_at_inside_temp_RH\"],\n",
    "        [\"dehum_rate_g_per_s\"],\n",
    "        width=900, \n",
    "        height=235, \n",
    "        title=\"Humidity\", \n",
    "        y_labels=[\"RH %\", \"g / s\"], \n",
    "        legend_label=\"\", \n",
    "        date_format=\"\",\n",
    "        colors=[\"blue\", \"lightgreen\", \"green\", \"orange\"],\n",
    "        left_axis_target_range=[40,70]\n",
    "    )"
   ]
  },
  {
   "cell_type": "code",
   "execution_count": null,
   "metadata": {
    "cell_id": "00008-eb02d526-ed01-4663-8ec8-5b8ef7909bc9",
    "deepnote_cell_type": "code",
    "deepnote_output_heights": [
     313
    ],
    "deepnote_to_be_reexecuted": false,
    "execution_millis": 111,
    "is_code_hidden": false,
    "source_hash": "28b66e8f",
    "tags": []
   },
   "outputs": [],
   "source": [
    "if not os.environ.get(\"USING_RUN\"):\n",
    "    plot_multiline_dual_y(\n",
    "        df.resample('D').mean() if is_long else df, \n",
    "        [\"temp\", \"ambient_temp\"],\n",
    "        [\"heating_rate_J_per_s\"],\n",
    "        width=900, \n",
    "        height=235, \n",
    "        title=\"Temperature\", \n",
    "        y_labels=[\"C\", \"J / s\"], \n",
    "        legend_label=\"\", \n",
    "        date_format=\"\",\n",
    "        colors=[\"blue\", \"green\", \"orange\"],\n",
    "        left_axis_target_range=[17,27]\n",
    "    )"
   ]
  },
  {
   "cell_type": "code",
   "execution_count": null,
   "metadata": {
    "cell_id": "00008-b1990f60-ecc8-4984-9f01-e88c73bddb18",
    "deepnote_cell_type": "code",
    "deepnote_output_heights": [
     308
    ],
    "deepnote_to_be_reexecuted": false,
    "execution_millis": 47,
    "is_code_hidden": false,
    "source_hash": "73c2a3d",
    "tags": []
   },
   "outputs": [],
   "source": [
    "if not os.environ.get(\"USING_RUN\"):\n",
    "    plot_multiline_dual_y(\n",
    "        df.resample('D').mean() if is_long else df, \n",
    "        [\"CO2_concentration\"],\n",
    "        [\"CO2_release_rate_mol_per_s\"],\n",
    "        width=900, \n",
    "        height=235, \n",
    "        title=\"CO2\", \n",
    "        y_labels=[\"ppm\", \"mol / s\"], \n",
    "        legend_label=\"\", \n",
    "        date_format=\"\",\n",
    "        colors=[\"blue\", \"green\"]\n",
    "    )"
   ]
  },
  {
   "cell_type": "markdown",
   "metadata": {
    "cell_id": "fd7960f3-35b1-4d36-a52f-6282627d6a3e",
    "deepnote_cell_type": "text-cell-h3",
    "is_collapsed": false,
    "tags": []
   },
   "source": [
    "### Calculate energy usage"
   ]
  },
  {
   "cell_type": "code",
   "execution_count": null,
   "metadata": {
    "cell_id": "568746f3-5366-4bbe-930e-c9ed1b898db9",
    "deepnote_cell_type": "code",
    "deepnote_output_heights": [
     21.1875
    ],
    "deepnote_to_be_reexecuted": false,
    "execution_millis": 5,
    "is_code_hidden": false,
    "source_hash": "2a625e1c",
    "tags": []
   },
   "outputs": [],
   "source": [
    "if not os.environ.get(\"USING_RUN\"):\n",
    "    electricity_cost: EUR_per_kWh = 0.145\n",
    "\n",
    "    # Fan\n",
    "    auc_airflow: m3 = np.trapz(df[\"airflow_m3_per_s\"], dx=time_period)\n",
    "    energy_used_by_fan: J = greenhouse.fan.get_energy_usage(auc_airflow)\n",
    "\n",
    "    # Heating\n",
    "    auc_heating: J = np.trapz(df[\"heating_rate_J_per_s\"], dx=time_period)\n",
    "    energy_used_by_heating: J = greenhouse.heatpump.get_energy_usage(auc_heating)\n",
    "\n",
    "    # Dehumidification\n",
    "    auc_dehum: g = np.trapz(df[\"dehum_rate_g_per_s\"], dx=time_period)\n",
    "    energy_used_by_dehum, _ = greenhouse.dehumidifier.run(auc_dehum)\n",
    "\n",
    "    # Lighting\n",
    "    energy_used_by_lighting: J = df['energy_used_by_lighting_J'].sum()\n",
    "\n",
    "    total_energy: J = energy_used_by_fan + energy_used_by_heating + energy_used_by_dehum + energy_used_by_lighting\n",
    "\n",
    "    print(f\"Total energy used: {round(J_to_kWh(total_energy), 2)} kWh, costs ~ {round(J_to_kWh(total_energy) * electricity_cost, 2)} EUR\")"
   ]
  },
  {
   "cell_type": "code",
   "execution_count": null,
   "metadata": {
    "cell_id": "7aaad3ea-75d3-4c54-966f-a4d81de8fd86",
    "deepnote_cell_type": "code",
    "deepnote_output_heights": [
     381
    ],
    "deepnote_to_be_reexecuted": false,
    "execution_millis": 25,
    "is_code_hidden": false,
    "source_hash": "6a662992",
    "tags": []
   },
   "outputs": [],
   "source": [
    "if not os.environ.get(\"USING_RUN\"):\n",
    "    for i, row in df.iterrows():\n",
    "        df.at[i, \"energy_used_by_fan_J\"]      = greenhouse.fan.get_energy_usage(row[\"airflow_m3_per_s\"] * time_period)\n",
    "        df.at[i, \"energy_used_by_heating_J\"]  = greenhouse.heatpump.get_energy_usage(row[\"heating_rate_J_per_s\"] * time_period)\n",
    "        df.at[i, \"energy_used_by_dehum_J\"], _ = greenhouse.dehumidifier.run(row[\"dehum_rate_g_per_s\"] * time_period)\n",
    "\n",
    "    plot_stacked_area(\n",
    "        df, \n",
    "        [\"energy_used_by_fan_J\", \"energy_used_by_heating_J\", \"energy_used_by_dehum_J\", \"energy_used_by_lighting_J\"], \n",
    "        width=900,\n",
    "        y_label=\"Energy used (J)\",\n",
    "        legend_label=\"\"\n",
    "    )"
   ]
  },
  {
   "cell_type": "markdown",
   "metadata": {
    "created_in_deepnote_cell": true,
    "deepnote_cell_type": "markdown",
    "tags": []
   },
   "source": [
    "<a style='text-decoration:none;line-height:16px;display:flex;color:#5B5B62;padding:10px;justify-content:end;' href='https://deepnote.com?utm_source=created-in-deepnote-cell&projectId=2f5dc715-67f7-4c8c-98f7-a87b736d3338' target=\"_blank\">\n",
    "<img alt='Created in deepnote.com' style='display:inline;max-height:16px;margin:0px;margin-right:7.5px;' src='data:image/svg+xml;base64,PD94bWwgdmVyc2lvbj0iMS4wIiBlbmNvZGluZz0iVVRGLTgiPz4KPHN2ZyB3aWR0aD0iODBweCIgaGVpZ2h0PSI4MHB4IiB2aWV3Qm94PSIwIDAgODAgODAiIHZlcnNpb249IjEuMSIgeG1sbnM9Imh0dHA6Ly93d3cudzMub3JnLzIwMDAvc3ZnIiB4bWxuczp4bGluaz0iaHR0cDovL3d3dy53My5vcmcvMTk5OS94bGluayI+CiAgICA8IS0tIEdlbmVyYXRvcjogU2tldGNoIDU0LjEgKDc2NDkwKSAtIGh0dHBzOi8vc2tldGNoYXBwLmNvbSAtLT4KICAgIDx0aXRsZT5Hcm91cCAzPC90aXRsZT4KICAgIDxkZXNjPkNyZWF0ZWQgd2l0aCBTa2V0Y2guPC9kZXNjPgogICAgPGcgaWQ9IkxhbmRpbmciIHN0cm9rZT0ibm9uZSIgc3Ryb2tlLXdpZHRoPSIxIiBmaWxsPSJub25lIiBmaWxsLXJ1bGU9ImV2ZW5vZGQiPgogICAgICAgIDxnIGlkPSJBcnRib2FyZCIgdHJhbnNmb3JtPSJ0cmFuc2xhdGUoLTEyMzUuMDAwMDAwLCAtNzkuMDAwMDAwKSI+CiAgICAgICAgICAgIDxnIGlkPSJHcm91cC0zIiB0cmFuc2Zvcm09InRyYW5zbGF0ZSgxMjM1LjAwMDAwMCwgNzkuMDAwMDAwKSI+CiAgICAgICAgICAgICAgICA8cG9seWdvbiBpZD0iUGF0aC0yMCIgZmlsbD0iIzAyNjVCNCIgcG9pbnRzPSIyLjM3NjIzNzYyIDgwIDM4LjA0NzY2NjcgODAgNTcuODIxNzgyMiA3My44MDU3NTkyIDU3LjgyMTc4MjIgMzIuNzU5MjczOSAzOS4xNDAyMjc4IDMxLjY4MzE2ODMiPjwvcG9seWdvbj4KICAgICAgICAgICAgICAgIDxwYXRoIGQ9Ik0zNS4wMDc3MTgsODAgQzQyLjkwNjIwMDcsNzYuNDU0OTM1OCA0Ny41NjQ5MTY3LDcxLjU0MjI2NzEgNDguOTgzODY2LDY1LjI2MTk5MzkgQzUxLjExMjI4OTksNTUuODQxNTg0MiA0MS42NzcxNzk1LDQ5LjIxMjIyODQgMjUuNjIzOTg0Niw0OS4yMTIyMjg0IEMyNS40ODQ5Mjg5LDQ5LjEyNjg0NDggMjkuODI2MTI5Niw0My4yODM4MjQ4IDM4LjY0NzU4NjksMzEuNjgzMTY4MyBMNzIuODcxMjg3MSwzMi41NTQ0MjUgTDY1LjI4MDk3Myw2Ny42NzYzNDIxIEw1MS4xMTIyODk5LDc3LjM3NjE0NCBMMzUuMDA3NzE4LDgwIFoiIGlkPSJQYXRoLTIyIiBmaWxsPSIjMDAyODY4Ij48L3BhdGg+CiAgICAgICAgICAgICAgICA8cGF0aCBkPSJNMCwzNy43MzA0NDA1IEwyNy4xMTQ1MzcsMC4yNTcxMTE0MzYgQzYyLjM3MTUxMjMsLTEuOTkwNzE3MDEgODAsMTAuNTAwMzkyNyA4MCwzNy43MzA0NDA1IEM4MCw2NC45NjA0ODgyIDY0Ljc3NjUwMzgsNzkuMDUwMzQxNCAzNC4zMjk1MTEzLDgwIEM0Ny4wNTUzNDg5LDc3LjU2NzA4MDggNTMuNDE4MjY3Nyw3MC4zMTM2MTAzIDUzLjQxODI2NzcsNTguMjM5NTg4NSBDNTMuNDE4MjY3Nyw0MC4xMjg1NTU3IDM2LjMwMzk1NDQsMzcuNzMwNDQwNSAyNS4yMjc0MTcsMzcuNzMwNDQwNSBDMTcuODQzMDU4NiwzNy43MzA0NDA1IDkuNDMzOTE5NjYsMzcuNzMwNDQwNSAwLDM3LjczMDQ0MDUgWiIgaWQ9IlBhdGgtMTkiIGZpbGw9IiMzNzkzRUYiPjwvcGF0aD4KICAgICAgICAgICAgPC9nPgogICAgICAgIDwvZz4KICAgIDwvZz4KPC9zdmc+' > </img>\n",
    "Created in <span style='font-weight:600;margin-left:4px;'>Deepnote</span></a>"
   ]
  }
 ],
 "metadata": {
  "deepnote": {
   "is_reactive": false
  },
  "deepnote_execution_queue": [],
  "deepnote_notebook_id": "8c63d8e8-88eb-4e28-bd16-9b7a7edeacd5"
 },
 "nbformat": 4,
 "nbformat_minor": 2
}
