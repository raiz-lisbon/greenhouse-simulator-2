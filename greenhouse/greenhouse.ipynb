{
 "cells": [
  {
   "cell_type": "code",
   "execution_count": null,
   "metadata": {
    "cell_id": "00000-64124d64-5d00-4861-8044-6e83d517e72e",
    "deepnote_cell_type": "code",
    "deepnote_output_heights": [
     null,
     232.25,
     611,
     611
    ],
    "deepnote_to_be_reexecuted": false,
    "execution_millis": 1186,
    "execution_start": 1639443777227,
    "source_hash": "369e2756",
    "tags": []
   },
   "outputs": [],
   "source": [
    "from scipy.integrate import odeint\n",
    "\n",
    "%env USING_RUN True\n",
    "\n",
    "%run ./adaptive_lighting/adaptive_lighting.ipynb import AdaptiveLighting\n",
    "%run ./adaptive_lighting/solarpanel.ipynb import SolarPanel\n",
    "%run ./heatpump/heatpump.ipynb import HeatPump\n",
    "%run ./structure/structure.ipynb import Structure\n",
    "%run ./dehumidifier/dehumidifier.ipynb import Dehumidifier\n",
    "%run ../crops/sweet_basil.ipynb import SweetBasil\n",
    "\n",
    "import sys\n",
    "sys.path.insert(0, '/work/greenhouse-simulator-2/')\n",
    "\n",
    "from helpers.types import *\n",
    "from helpers.conversions import *\n",
    "from helpers.solar_conversions import *\n",
    "from greenhouse.greenhouse import *\n",
    "from greenhouse.adaptive_lighting import *"
   ]
  },
  {
   "cell_type": "code",
   "execution_count": null,
   "metadata": {
    "cell_id": "00000-3963b194-75ce-4370-9f02-99dee6226d75",
    "deepnote_cell_type": "code",
    "deepnote_to_be_reexecuted": false,
    "execution_millis": 2,
    "execution_start": 1639443778436,
    "source_hash": "3f5636e5",
    "tags": []
   },
   "outputs": [],
   "source": [
    "class Greenhouse:\n",
    "    def __init__(self, \n",
    "        time_period: s,\n",
    "        # target_temp_range: [C, C],\n",
    "        # target_humidity_range: [RH, RH]\n",
    "    ):\n",
    "        self.time_period: s = time_period\n",
    "        # self.target_temp_range: [C, C] = target_temp_range\n",
    "        # self.target_humidity_range: [RH, RH] = target_humidity_range\n",
    "\n",
    "        # Init subsystems\n",
    "        self.structure = Structure()\n",
    "        self.dehumidifier = Dehumidifier()\n",
    "        self.heatpump = HeatPump()\n",
    "        self.crop = SweetBasil(\n",
    "            time_period=self.time_period, \n",
    "            plants_per_barrel=self.structure.plants_per_barrel, \n",
    "            barrel_count=self.structure.barrel_count\n",
    "        )\n",
    "        self.light = AdaptiveLighting(time_period, self.structure, self.crop)\n",
    "\n",
    "        # Init register to store previos period's values\n",
    "        self.prev_period = {\n",
    "            \"CO2\": 410\n",
    "        }\n",
    "\n",
    "\n",
    "    def run(self, timestamp, data):\n",
    "        # SECTION 1: Get input from solar radiation\n",
    "        # Get distribution of irradiance on different panels (solar and non-solar) of the greenhouse (factoring in sun position, tilt and azimuth angles)\n",
    "        results: [W, W_per_m2] = self.structure.get_irradiance_by_panel_type(timestamp, data.solarradiation)\n",
    "        solar_power_on_nonsolar_panels, irradiance_on_solar_panels = results\n",
    "\n",
    "        # Get electrical energy generated and heat irradiated to the greenhouse\n",
    "        results: [W, W, W_per_m2] = self.light.solarpanel.run(irradiance_on_solar_panels)\n",
    "        solar_power_generated, solar_power_transmitted, transmitted_irradiance, transparency, _ = results\n",
    "        solar_energy_generated: kWh = J_to_kWh(solar_power_generated * self.time_period)\n",
    "\n",
    "        # Add energy from non-solar panels and portion of energy transmitted by solar panels to get total heat entering the greenhouse\n",
    "        heat_transfer_rate_inside: W = solar_power_on_nonsolar_panels + solar_power_transmitted\n",
    "\n",
    "        # Calculate energy used for lighting\n",
    "        PPFD: umol_per_m2_s = irradiance_to_PPFD(transmitted_irradiance)\n",
    "        PAR_inside: umol_per_m2 = PPFD * self.time_period\n",
    "        lighting_results = self.light.run(timestamp, PAR_inside)\n",
    "\n",
    "        # SECTION 2: Grow plants\n",
    "        results: [mol_per_s, mol, mol_per_s, mol] = self.crop.grow(1e-6 * lighting_results[\"actual_PPFD_umol_per_m2_s\"] * self.time_period)\n",
    "        CO2_assimilation_rate, CO2_assimilated, H20_evaporation_rate, H2O_evaporated = results\n",
    "\n",
    "        # SECTION 3: Deal with resulting CO2, water, heat\n",
    "        # Calculate net energy\n",
    "        total_energy_used: kWh = lighting_results[\"energy_used_for_lighting_kWh\"] #+ energy_for_dehumidification + energy_for_heating\n",
    "        total_energy_generated: kWh = solar_energy_generated\n",
    "        net_energy: kWh = total_energy_generated - total_energy_used\n",
    "\n",
    "        # Calculate CO2\n",
    "        CO2_concentration: ppm = self.register_CO2(CO2_assimilated)\n",
    "\n",
    "        return {\n",
    "            \"natural_PPFD\": PPFD,\n",
    "            \"total_energy_used_kWh\": total_energy_used,\n",
    "            \"total_energy_generated_kWh\": total_energy_generated,\n",
    "            \"net_energy_kWh\": net_energy,\n",
    "\n",
    "            \"CO2_concentration_ppm\": CO2_concentration,\n",
    "            \"CO2_assimilation_rate_mol_per_s\": CO2_assimilation_rate,\n",
    "\n",
    "            **lighting_results,\n",
    "        }\n",
    "\n",
    "    def register_CO2(self, CO2_assimilated: mol):\n",
    "        ambient_CO2: ppm = 410\n",
    "        airflow: m3_per_s = 0.5\n",
    "\n",
    "        initial_CO2_concentration: ppm = self.prev_period[\"CO2\"]\n",
    "\n",
    "        CO2_assimilated_per_s: mol_per_s = CO2_assimilated / self.time_period\n",
    "\n",
    "        def CO2_model(CO2_concentration: ppm, t):\n",
    "            CO2_inflow: mol_per_s = ppm_to_amount(ambient_CO2, airflow)\n",
    "            CO2_outflow: mol_per_s = ppm_to_amount(CO2_concentration, airflow)\n",
    "            net_change_amount: mol_per_s = CO2_inflow - CO2_assimilated_per_s - CO2_outflow\n",
    "            net_change_concentration: ppm_per_s = amount_to_ppm(net_change_amount, self.structure.volume)\n",
    "\n",
    "            return net_change_concentration\n",
    "\n",
    "\n",
    "        CO2_concentrations_in_period: list[ppm] = odeint(CO2_model, initial_CO2_concentration, np.linspace(0, self.time_period, 5))\n",
    "        new_CO2_concentration = CO2_concentrations_in_period[-1][0]\n",
    "\n",
    "        if new_CO2_concentration < 0:\n",
    "            new_CO2_concentration = 0\n",
    "\n",
    "        self.prev_period[\"CO2\"] = new_CO2_concentration\n",
    "\n",
    "        return new_CO2_concentration\n",
    "\n"
   ]
  },
  {
   "cell_type": "markdown",
   "metadata": {
    "cell_id": "00002-e10c4ba4-4fe9-4282-b1da-e67767b27c38",
    "deepnote_cell_type": "text-cell-h2",
    "is_collapsed": false,
    "tags": []
   },
   "source": [
    "## Visualize"
   ]
  },
  {
   "cell_type": "code",
   "execution_count": null,
   "metadata": {
    "cell_id": "00003-182cc219-edd3-4710-8d5b-074a89409fce",
    "deepnote_cell_type": "code",
    "deepnote_to_be_reexecuted": false,
    "execution_millis": 45,
    "execution_start": 1639443778485,
    "source_hash": "69466ceb",
    "tags": []
   },
   "outputs": [],
   "source": [
    "is_long = False\n",
    "if is_long:\n",
    "    resample_period = \"60min\"\n",
    "    df = get_weather_data(date_from=\"2020-01-01\", date_to=\"2020-12-31\", resample_period=resample_period)\n",
    "else:\n",
    "    resample_period = \"15min\"\n",
    "    df = get_weather_data(date_from=\"2020-07-01\", date_to=\"2020-07-02\", resample_period=resample_period)"
   ]
  },
  {
   "cell_type": "code",
   "execution_count": null,
   "metadata": {
    "cell_id": "00002-0b0c41c9-a589-4926-96a6-5f18a489b206",
    "deepnote_cell_type": "code",
    "deepnote_output_heights": [
     539.25
    ],
    "deepnote_to_be_reexecuted": false,
    "execution_millis": 0,
    "execution_start": 1639443778531,
    "source_hash": "3f4991a4",
    "tags": []
   },
   "outputs": [],
   "source": [
    "time_period = pd.to_timedelta(resample_period).total_seconds()\n",
    "\n",
    "greenhouse = Greenhouse(\n",
    "    time_period = time_period,\n",
    ")"
   ]
  },
  {
   "cell_type": "code",
   "execution_count": null,
   "metadata": {
    "cell_id": "00004-256a91bf-ba8a-4c2d-a82a-835cc9c3f042",
    "deepnote_cell_type": "code",
    "deepnote_output_heights": [
     462.5
    ],
    "deepnote_to_be_reexecuted": false,
    "execution_millis": 163,
    "execution_start": 1639443778573,
    "source_hash": "7a62f031",
    "tags": []
   },
   "outputs": [],
   "source": [
    "for timestamp, row in df.iterrows():\n",
    "    results = greenhouse.run(timestamp, row)\n",
    "\n",
    "    for col in results.keys():\n",
    "            df.loc[timestamp, col] = results[col]"
   ]
  },
  {
   "cell_type": "code",
   "execution_count": null,
   "metadata": {
    "cell_id": "00006-f1487089-16f1-48e3-a3b7-fc42e93a737a",
    "deepnote_cell_type": "code",
    "deepnote_output_heights": [
     291
    ],
    "deepnote_to_be_reexecuted": true,
    "execution_millis": 55,
    "execution_start": 1639443543957,
    "source_hash": "65a7a2df",
    "tags": []
   },
   "outputs": [],
   "source": [
    "plot_multiline_dual_y(\n",
    "    df.resample('D').mean() if is_long else df, \n",
    "    [\"CO2_concentration_ppm\"],\n",
    "    [\"CO2_assimilation_rate_mol_per_s\"],\n",
    "    width=900, \n",
    "    height=235, \n",
    "    title=\"\", \n",
    "    y_labels=[\"ppm\", \"mol / s\"], \n",
    "    legend_label=\"\", \n",
    "    date_format=\"\",\n",
    "    colors=[\"red\", \"orange\"]\n",
    ")"
   ]
  },
  {
   "cell_type": "code",
   "execution_count": null,
   "metadata": {
    "cell_id": "00005-fcdadee7-98b7-4dbc-b215-37a5b45bf93e",
    "deepnote_cell_type": "code",
    "deepnote_output_heights": [
     null,
     587
    ],
    "deepnote_to_be_reexecuted": true,
    "execution_millis": 21,
    "execution_start": 1639443544081,
    "source_hash": "ff6f3655",
    "tags": []
   },
   "outputs": [],
   "source": [
    "print(f\"Total Net Energy: {round(df['net_energy_kWh'].sum(), 2)} kWh\")\n",
    "print(f\"Total Wasted PAR: {round(df['wasted_PAR_total_umol'].sum() * 1e6, 2)} mol\")\n",
    "\n",
    "plot_multiline(\n",
    "    df.resample('D').mean() if is_long else df, \n",
    "    [\"total_energy_used_kWh\", \"total_energy_generated_kWh\", \"net_energy_kWh\"],\n",
    "    width=900, \n",
    "    height=235, \n",
    "    title=\"\", \n",
    "    y_label=\"kWh\", \n",
    "    legend_label=\"\", \n",
    "    date_format=\"\"\n",
    ") & \\\n",
    "plot_multiline(\n",
    "    df.resample('D').mean() if is_long else df, \n",
    "    [\"actual_PPFD_umol_per_m2_s\", \"wasted_PPFD_umol_per_m2_s\", \"natural_PPFD\"],\n",
    "    width=900, \n",
    "    height=235, \n",
    "    title=\"\", \n",
    "    y_label=\"umol / m2 / s\", \n",
    "    legend_label=\"\", \n",
    "    date_format=\"\"\n",
    ")"
   ]
  },
  {
   "cell_type": "code",
   "execution_count": null,
   "metadata": {
    "cell_id": "00006-c23b6976-f19b-4968-b891-ca7705af15b4",
    "deepnote_cell_type": "code",
    "deepnote_to_be_reexecuted": true,
    "execution_millis": 131848,
    "execution_start": 1639443544105,
    "source_hash": "b623e53d",
    "tags": []
   },
   "outputs": [],
   "source": []
  },
  {
   "cell_type": "markdown",
   "metadata": {
    "created_in_deepnote_cell": true,
    "deepnote_cell_type": "markdown",
    "tags": []
   },
   "source": [
    "<a style='text-decoration:none;line-height:16px;display:flex;color:#5B5B62;padding:10px;justify-content:end;' href='https://deepnote.com?utm_source=created-in-deepnote-cell&projectId=2f5dc715-67f7-4c8c-98f7-a87b736d3338' target=\"_blank\">\n",
    "<img alt='Created in deepnote.com' style='display:inline;max-height:16px;margin:0px;margin-right:7.5px;' src='data:image/svg+xml;base64,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' > </img>\n",
    "Created in <span style='font-weight:600;margin-left:4px;'>Deepnote</span></a>"
   ]
  }
 ],
 "metadata": {
  "deepnote": {
   "is_reactive": false
  },
  "deepnote_execution_queue": [],
  "deepnote_notebook_id": "8c63d8e8-88eb-4e28-bd16-9b7a7edeacd5"
 },
 "nbformat": 4,
 "nbformat_minor": 2
}
