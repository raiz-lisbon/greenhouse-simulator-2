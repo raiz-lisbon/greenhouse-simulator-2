{
 "cells": [
  {
   "cell_type": "code",
   "execution_count": null,
   "metadata": {
    "cell_id": "00000-c8af02b4-1f20-45c4-93c5-f3e908674b22",
    "deepnote_cell_height": 192,
    "deepnote_cell_type": "code",
    "deepnote_to_be_reexecuted": false,
    "execution_millis": 199,
    "source_hash": "489597d1",
    "tags": []
   },
   "outputs": [],
   "source": [
    "import os\n",
    "import sys\n",
    "sys.path.insert(0, '/work/greenhouse-simulator-2/')\n",
    "\n",
    "from helpers.types import *\n",
    "from helpers.data_prep import *\n",
    "from helpers.visualization import *\n",
    "from helpers.solar_conversions import *"
   ]
  },
  {
   "cell_type": "code",
   "execution_count": null,
   "metadata": {
    "cell_id": "00000-a7b61d16-2397-4537-ac92-7aeee0c17ac7",
    "deepnote_cell_height": 768,
    "deepnote_cell_type": "code",
    "deepnote_to_be_reexecuted": false,
    "execution_millis": 0,
    "source_hash": "c07767da",
    "tags": []
   },
   "outputs": [],
   "source": [
    "class LED_Lighting:\n",
    "    def __init__(self, barrel_count):\n",
    "        # VU-HORTI-BLADE-LMRR-2036-80W-CCHV-IP68\n",
    "        self.energy_efficiency: mol_per_joule = 2.7e-6\n",
    "        self.max_power_per_light: W = 80\n",
    "        self.max_PPF: umol_per_s = 216\n",
    "        self.price: EUR = 120\n",
    "        self.efficiency = 0.85\n",
    "        self.heat_per_driver: W = 20\n",
    "\n",
    "        # Lighting config\n",
    "        self.driver_count = 2\n",
    "        self.barrel_count = barrel_count\n",
    "        self.light_count_per_barrel = 3\n",
    "        self.barrel_surface: m2 = 1.8 * 1.5\n",
    "\n",
    "        # Derived properties\n",
    "        self.max_PPFD: umol_per_m2_s = self.light_count_per_barrel * self.max_PPF / self.barrel_surface\n",
    "        self.installed_power: W = self.barrel_count * self.light_count_per_barrel * self.max_power_per_light\n",
    "\n",
    "        # Registers\n",
    "        self.dimmer = []\n",
    "\n",
    "\n",
    "    def run(self, timestamp, photoperiod, time_period: s, PPFD_to_supplement: umol_per_m2_s):\n",
    "        total_PPFD_amount_to_supplement: mol = PPFD_to_supplement * time_period * (self.barrel_surface * self.barrel_count) / 1e6\n",
    "        required_energy: J = total_PPFD_amount_to_supplement / self.energy_efficiency\n",
    "        required_power: W = required_energy / time_period\n",
    "        dimmer = required_power / self.installed_power\n",
    "\n",
    "        heat_by_drivers: J = self.driver_count * self.heat_per_driver * dimmer * time_period\n",
    "        heat_generated: J = (1 - self.efficiency) * required_energy + heat_by_drivers\n",
    "\n",
    "        if required_power > self.installed_power:\n",
    "            raise Exception(f\"Light requirement ({round(required_power)} W) exceeds installed power available ({self.installed_power} W)\")\n",
    "\n",
    "        self.dimmer.append(dimmer)\n",
    "\n",
    "        return required_energy, heat_generated\n"
   ]
  },
  {
   "cell_type": "markdown",
   "metadata": {
    "cell_id": "00002-21548803-6f60-44ff-bacc-d4b1a45bfc50",
    "deepnote_cell_type": "text-cell-h3",
    "is_collapsed": false,
    "tags": []
   },
   "source": [
    "### Visualize"
   ]
  },
  {
   "cell_type": "code",
   "execution_count": null,
   "metadata": {
    "cell_id": "00003-6d726c45-92bf-44ae-a697-924037d98764",
    "deepnote_cell_height": 66,
    "deepnote_cell_type": "code",
    "deepnote_to_be_reexecuted": false,
    "execution_millis": 0,
    "source_hash": "80f98f31",
    "tags": []
   },
   "outputs": [],
   "source": [
    "light = LED_Lighting(barrel_count=6)"
   ]
  },
  {
   "cell_type": "code",
   "execution_count": null,
   "metadata": {
    "cell_id": "00002-3fc85999-d3d0-419a-a9c4-e395ec9a158a",
    "deepnote_cell_height": 570,
    "deepnote_cell_type": "code",
    "deepnote_to_be_reexecuted": false,
    "execution_millis": 268,
    "source_hash": "8c80ca93",
    "tags": []
   },
   "outputs": [],
   "source": [
    "if not os.environ.get(\"USING_RUN\"):\n",
    "    dli = 13\n",
    "    photoperiod = 16\n",
    "    roof_transparency = 0.4\n",
    "\n",
    "    resample_period = \"15min\"\n",
    "    time_period = pd.to_timedelta(resample_period).total_seconds()\n",
    "\n",
    "    df = get_weather_data(date_from=\"2020-06-02\", date_to=\"2020-06-03\", resample_period=resample_period)\n",
    "\n",
    "    for i, row in df.iterrows():\n",
    "        irradiance: W_per_m2 = row[\"solarradiation\"]\n",
    "        natural_PPFD: umol_per_m2_s = irradiance_to_PPFD(irradiance)\n",
    "        required_PPFD: umol_per_m2_s = projected_DLI_to_PPFD(dli=dli, photoperiod=photoperiod)\n",
    "\n",
    "        PPFD_to_supplement: umol_per_m2_s = 0\n",
    "        if required_PPFD > natural_PPFD:\n",
    "            PPFD_to_supplement = required_PPFD - natural_PPFD\n",
    "\n",
    "        required_energy, heat_generated = light.run(\n",
    "            timestamp=i,\n",
    "            photoperiod=photoperiod,\n",
    "            time_period=time_period,\n",
    "            PPFD_to_supplement=PPFD_to_supplement\n",
    "        )\n",
    "\n",
    "        df.loc[i, \"lighting_power\"] = required_energy / time_period\n",
    "        df.loc[i, \"heat_generated_W\"] = heat_generated / time_period\n"
   ]
  },
  {
   "cell_type": "code",
   "execution_count": null,
   "metadata": {
    "cell_id": "00005-fa7ce813-f655-49fd-b889-402d788757fe",
    "deepnote_cell_height": 282,
    "deepnote_cell_type": "code",
    "deepnote_to_be_reexecuted": false,
    "execution_millis": 189,
    "source_hash": "c8980d78",
    "tags": []
   },
   "outputs": [],
   "source": [
    "plot = None\n",
    "if not os.environ.get(\"USING_RUN\"):\n",
    "    plot = plot_multiline(\n",
    "        df, \n",
    "        [\"lighting_power\", \"heat_generated_W\"], \n",
    "        width=900, \n",
    "        height=235, \n",
    "        title=\"\", \n",
    "        y_label=\"Watts\", \n",
    "        legend_label=\"\", \n",
    "        date_format=\"\"\n",
    "    )\n",
    "plot"
   ]
  },
  {
   "cell_type": "code",
   "execution_count": null,
   "metadata": {
    "cell_id": "00007-a4728dee-6b52-4cff-b592-85c7e29c38de",
    "deepnote_cell_height": 66,
    "deepnote_cell_type": "code",
    "deepnote_to_be_reexecuted": false,
    "execution_millis": 990324,
    "source_hash": "b623e53d",
    "tags": []
   },
   "outputs": [],
   "source": []
  },
  {
   "cell_type": "markdown",
   "metadata": {
    "created_in_deepnote_cell": true,
    "deepnote_cell_type": "markdown",
    "tags": []
   },
   "source": [
    "<a style='text-decoration:none;line-height:16px;display:flex;color:#5B5B62;padding:10px;justify-content:end;' href='https://deepnote.com?utm_source=created-in-deepnote-cell&projectId=2f5dc715-67f7-4c8c-98f7-a87b736d3338' target=\"_blank\">\n",
    "<img alt='Created in deepnote.com' style='display:inline;max-height:16px;margin:0px;margin-right:7.5px;' src='data:image/svg+xml;base64,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' > </img>\n",
    "Created in <span style='font-weight:600;margin-left:4px;'>Deepnote</span></a>"
   ]
  }
 ],
 "metadata": {
  "deepnote": {
   "is_reactive": false
  },
  "deepnote_execution_queue": [],
  "deepnote_notebook_id": "079df6b2-a7f1-4656-8029-dfc115dd8968"
 },
 "nbformat": 4,
 "nbformat_minor": 2
}
