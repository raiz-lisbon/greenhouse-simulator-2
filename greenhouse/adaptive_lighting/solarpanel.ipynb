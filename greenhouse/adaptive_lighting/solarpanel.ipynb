{
 "cells": [
  {
   "cell_type": "code",
   "execution_count": null,
   "metadata": {
    "cell_id": "00000-cd7589c9-5a7a-4277-9235-43f1bf5a314a",
    "deepnote_cell_type": "code",
    "deepnote_output_heights": [
     193.875,
     611,
     611
    ],
    "deepnote_to_be_reexecuted": false,
    "execution_millis": 4214,
    "source_hash": "34e963cd",
    "tags": []
   },
   "outputs": [],
   "source": [
    "import os\n",
    "import sys\n",
    "sys.path.insert(0, '/work/greenhouse-simulator-2/')\n",
    "\n",
    "%run /work/greenhouse-simulator-2/greenhouse/structure/structure.ipynb import Structure\n",
    "\n",
    "from helpers.types import *\n",
    "from helpers.data_prep import *\n",
    "from helpers.visualization import *\n",
    "from helpers.solar_conversions import *"
   ]
  },
  {
   "cell_type": "code",
   "execution_count": null,
   "metadata": {
    "cell_id": "00001-0c5a9298-ee0c-4e10-a48c-ab25335db004",
    "deepnote_cell_type": "code",
    "tags": []
   },
   "outputs": [],
   "source": [
    "class NonSolar:\n",
    "    def __init__(self):\n",
    "        self.transparency = 0.8\n",
    "        self.efficiency = 0\n",
    "        self.configuration = \"static\""
   ]
  },
  {
   "cell_type": "code",
   "execution_count": null,
   "metadata": {
    "cell_id": "00001-ddbcc99c-72ba-42f6-b11c-ac645445fe41",
    "deepnote_cell_type": "code",
    "deepnote_to_be_reexecuted": false,
    "execution_millis": 10,
    "source_hash": "77ad5018",
    "tags": []
   },
   "outputs": [],
   "source": [
    "class SolarBrite:\n",
    "    def __init__(self, transparency=0.44):\n",
    "        self.transparency_limits = [0.44, 0.82]\n",
    "        assert transparency >= self.transparency_limits[0] and transparency <= self.transparency_limits[1], f\"SolarBrite transparency ({transparency}) is not within limits {self.transparency_limits}\"\n",
    "        self.transparency = transparency\n",
    "        self.efficiency = 0.22 # As portion of non-transmitted sunlight\n",
    "        self.configuration = \"static\""
   ]
  },
  {
   "cell_type": "code",
   "execution_count": null,
   "metadata": {
    "cell_id": "00002-f4965348-dd90-4ac8-8ff0-4b930fdce7e2",
    "deepnote_cell_type": "code",
    "deepnote_to_be_reexecuted": false,
    "execution_millis": 0,
    "source_hash": "245dd326",
    "tags": []
   },
   "outputs": [],
   "source": [
    "class Insolight2:\n",
    "    def __init__(self):\n",
    "        self.transparency_limits = [0.2, 0.78]\n",
    "        self.transparency = 0.4\n",
    "        self.efficiency = 0.2 # As portion of non-transmitted sunlight\n",
    "        self.configuration = \"dynamic\""
   ]
  },
  {
   "cell_type": "code",
   "execution_count": null,
   "metadata": {
    "cell_id": "00000-95051edd-ae5a-48fb-8d99-3995987cdb58",
    "deepnote_cell_type": "code",
    "deepnote_to_be_reexecuted": false,
    "execution_millis": 1,
    "source_hash": "eab50bb7",
    "tags": []
   },
   "outputs": [],
   "source": [
    "class SolarPanel:\n",
    "    def __init__(self, time_period: s, photoperiod: h, target_DLI: mol_per_m2_day, irradiated_area: m2, roof_panel_type):\n",
    "        self.time_period: s = time_period\n",
    "        self.photoperiod: h = photoperiod\n",
    "        self.target_DLI: dli = target_DLI\n",
    "        self.irradiated_area: m2 = irradiated_area\n",
    "\n",
    "        supported_roof_panel_types = [\"solarbrite\", \"insolight\", \"polycarbonate\"]\n",
    "        assert roof_panel_type in supported_roof_panel_types, f\"roof_panel_type must to be in {supported_roof_panel_types}\"\n",
    "\n",
    "        if roof_panel_type == \"solarbrite\":\n",
    "            self.panel = SolarBrite()\n",
    "        elif roof_panel_type == \"insolight\":\n",
    "            self.panel = Insolight2()\n",
    "        elif roof_panel_type == \"polycarbonate\":\n",
    "            self.panel = NonSolar()\n",
    "\n",
    "\n",
    "    def distribute_irradiance_static(self, irradiance: W_per_m2) -> [W_per_m2, W_per_m2]:\n",
    "        transmitted_irradiance: W_per_m2 = irradiance * self.panel.transparency\n",
    "        irradiance_on_panels: W_per_m2 = irradiance * (1 - self.panel.transparency)\n",
    "        return transmitted_irradiance, irradiance_on_panels, self.panel.transparency\n",
    "\n",
    "\n",
    "    def distribute_irradiance_dynamic(self, irradiance: W_per_m2) -> [W_per_m2, W_per_m2]:\n",
    "        PPFD: mol_per_m2_s = irradiance_to_PPFD(irradiance)\n",
    "        projected_DLI: mol_per_m2_day = PPFD_to_projected_DLI(PPFD, self.photoperiod)\n",
    "\n",
    "        transparency = self.target_DLI / (projected_DLI + 1e-10) # add a small number to avoid ZeroDivisionError\n",
    "\n",
    "        # Keep transparency within valid limits\n",
    "        if transparency > self.panel.transparency_limits[1]:\n",
    "            transparency = self.panel.transparency_limits[1]\n",
    "\n",
    "        if transparency < self.panel.transparency_limits[0]:\n",
    "            transparency = self.panel.transparency_limits[0]\n",
    "        \n",
    "        transmitted_irradiance: W_per_m2 = irradiance * transparency\n",
    "        irradiance_on_panels: W_per_m2 = irradiance * (1 - transparency)\n",
    "\n",
    "        return transmitted_irradiance, irradiance_on_panels, transparency\n",
    "\n",
    "\n",
    "    def run(self, irradiance_on_solar_panel: W_per_m2) -> [W, W, W_per_m2]:\n",
    "        if self.panel.configuration == \"static\":\n",
    "            transmitted_irradiance, irradiance_on_panels, transparency = self.distribute_irradiance_static(irradiance_on_solar_panel)\n",
    "        elif self.panel.configuration == \"dynamic\":\n",
    "            transmitted_irradiance, irradiance_on_panels, transparency = self.distribute_irradiance_dynamic(irradiance_on_solar_panel)\n",
    "\n",
    "        solar_power_transmitted: W = transmitted_irradiance * self.irradiated_area\n",
    "        power_captured: W = irradiance_on_panels * self.irradiated_area\n",
    "        electrical_power_generated: W = self.panel.efficiency * power_captured\n",
    "\n",
    "        transmitted_PPFD: umol_per_m2_s = irradiance_to_PPFD(transmitted_irradiance)\n",
    "        target_PPFD: umol_per_m2_s = projected_DLI_to_PPFD(self.target_DLI, self.photoperiod)\n",
    "\n",
    "        wasted_PPFD: umol_per_m2_s = 0\n",
    "        if transmitted_PPFD > target_PPFD:\n",
    "            wasted_PPFD = transmitted_PPFD - target_PPFD\n",
    "\n",
    "        return electrical_power_generated, solar_power_transmitted, transmitted_irradiance, transparency, wasted_PPFD"
   ]
  },
  {
   "cell_type": "markdown",
   "metadata": {
    "cell_id": "00004-777f41a1-fd6b-4ec5-9f99-b89a9ee4819c",
    "deepnote_cell_type": "text-cell-h2",
    "is_collapsed": false,
    "tags": []
   },
   "source": [
    "## Visualize"
   ]
  },
  {
   "cell_type": "markdown",
   "metadata": {
    "cell_id": "00005-75db4ba3-5be2-4086-8a8e-1169e9761e57",
    "deepnote_cell_type": "text-cell-h3",
    "is_collapsed": false,
    "tags": []
   },
   "source": [
    "### Static transparency: SolarBrite"
   ]
  },
  {
   "cell_type": "code",
   "execution_count": null,
   "metadata": {
    "cell_id": "00002-11d2fa94-6113-4f42-9828-c33bac5296c8",
    "deepnote_cell_type": "code",
    "deepnote_output_heights": [
     462.5
    ],
    "deepnote_to_be_reexecuted": false,
    "execution_millis": 5,
    "source_hash": "54118590",
    "tags": []
   },
   "outputs": [],
   "source": [
    "if not os.environ.get(\"USING_RUN\"):\n",
    "    resample_period = \"15min\"\n",
    "    time_period = pd.to_timedelta(resample_period).total_seconds()\n",
    "\n",
    "    structure = Structure()\n",
    "    panel = SolarPanel(\n",
    "        time_period = time_period,\n",
    "        photoperiod = 16,\n",
    "        target_DLI = 13,\n",
    "        irradiated_area = 15, \n",
    "        roof_panel_type = \"solarbrite\"\n",
    "    )"
   ]
  },
  {
   "cell_type": "code",
   "execution_count": null,
   "metadata": {
    "cell_id": "00005-ab5a9bb6-20ef-4b81-ba3f-85ada76bf696",
    "deepnote_cell_type": "code",
    "deepnote_output_heights": [
     328.1875
    ],
    "deepnote_to_be_reexecuted": false,
    "execution_millis": 1736,
    "source_hash": "244929b9",
    "tags": []
   },
   "outputs": [],
   "source": [
    "if not os.environ.get(\"USING_RUN\"):\n",
    "    df = get_weather_data(date_from=\"2020-05-02\", date_to=\"2020-05-03\", resample_period=resample_period)\n",
    "\n",
    "    for i, row in df.iterrows():\n",
    "        results: [W, W_per_m2] = structure.get_irradiance_by_panel_type(i, row.solarradiation)\n",
    "        solar_power_on_nonsolar_panels, irradiance_on_solar_panels = results\n",
    "\n",
    "        results = panel.run(irradiance_on_solar_panels)\n",
    "        electrical_power_generated, solar_power_transmitted, transmitted_irradiance, transparency, wasted_PPFD = results\n",
    "\n",
    "        df.loc[i, \"electrical_power_generated_W\"] = electrical_power_generated\n",
    "        df.loc[i, \"solar_power_transmitted_W\"] = solar_power_transmitted\n",
    "        df.loc[i, \"transmitted_irradiance_W_per_m2\"] = transmitted_irradiance\n",
    "        df.loc[i, \"wasted_PPFD\"] = wasted_PPFD\n",
    "\n",
    "\n",
    "    total_power_generated: kWh = df[\"electrical_power_generated_W\"].sum() * time_period / 1000 / 3600\n",
    "    print(f\"Total power generated: {round(total_power_generated, 2)} kWh\")"
   ]
  },
  {
   "cell_type": "code",
   "execution_count": null,
   "metadata": {
    "cell_id": "00009-7b9fda2f-1c88-429e-af6c-8fc6d0d88715",
    "deepnote_cell_type": "code",
    "deepnote_output_heights": [
     611
    ],
    "deepnote_to_be_reexecuted": false,
    "execution_millis": 42,
    "source_hash": "8e5ad123",
    "tags": []
   },
   "outputs": [],
   "source": [
    "plots_2 = None\n",
    "if not os.environ.get(\"USING_RUN\"):\n",
    "    plots_2 = plot_multiline(\n",
    "        df, \n",
    "        [\"electrical_power_generated_W\", \"solar_power_transmitted_W\"], \n",
    "        width=900, \n",
    "        height=235, \n",
    "        title=\"\", \n",
    "        y_label=\"Watts\", \n",
    "        legend_label=\"\", \n",
    "        date_format=\"\"\n",
    "    ) & \\\n",
    "    plot_multiline(\n",
    "        df, \n",
    "        [\"transmitted_irradiance_W_per_m2\"], \n",
    "        width=900, \n",
    "        height=235, \n",
    "        title=\"\", \n",
    "        y_label=\"Watts per m2\", \n",
    "        legend_label=\"\", \n",
    "        date_format=\"\"\n",
    "    ) & \\\n",
    "    plot_multiline(\n",
    "        df, \n",
    "        [\"wasted_PPFD\"], \n",
    "        width=900, \n",
    "        height=235, \n",
    "        title=\"\", \n",
    "        y_label=\"umol_per_m2_s\", \n",
    "        legend_label=\"\", \n",
    "        date_format=\"\"\n",
    "    )\n",
    "plots_2"
   ]
  },
  {
   "cell_type": "markdown",
   "metadata": {
    "cell_id": "00009-9a65e55c-62f7-4ae0-8766-b6647fd70a4f",
    "deepnote_cell_type": "text-cell-h3",
    "is_collapsed": false,
    "tags": []
   },
   "source": [
    "### Dynamic transparency: Insolight"
   ]
  },
  {
   "cell_type": "code",
   "execution_count": null,
   "metadata": {
    "cell_id": "00009-1514a5e6-e823-4df5-ac3b-5064ffa13b91",
    "deepnote_cell_type": "code",
    "deepnote_to_be_reexecuted": false,
    "execution_millis": 1,
    "source_hash": "1b185955",
    "tags": []
   },
   "outputs": [],
   "source": [
    "if not os.environ.get(\"USING_RUN\"):\n",
    "    structure_2 = Structure()\n",
    "    panel_2 = SolarPanel(\n",
    "        time_period = time_period,\n",
    "        photoperiod = 16,\n",
    "        target_DLI = 13,\n",
    "        irradiated_area = 15, \n",
    "        manufacturer = \"insolight\"\n",
    "    )"
   ]
  },
  {
   "cell_type": "code",
   "execution_count": null,
   "metadata": {
    "cell_id": "00011-dc006590-7e2f-4b55-990c-de8a06d5cb03",
    "deepnote_cell_type": "code",
    "deepnote_to_be_reexecuted": false,
    "execution_millis": 1723,
    "source_hash": "78adddfa",
    "tags": []
   },
   "outputs": [],
   "source": [
    "if not os.environ.get(\"USING_RUN\"):\n",
    "    df = get_weather_data(date_from=\"2020-05-02\", date_to=\"2020-05-03\", resample_period=resample_period)\n",
    "\n",
    "    for i, row in df.iterrows():\n",
    "        results: [W, W_per_m2] = structure_2.get_irradiance_by_panel_type(i, row.solarradiation)\n",
    "        solar_power_on_nonsolar_panels, irradiance_on_solar_panels = results\n",
    "\n",
    "        results = panel_2.run(irradiance_on_solar_panels)\n",
    "        electrical_power_generated, solar_power_transmitted, transmitted_irradiance, transparency, wasted_PPFD = results\n",
    "\n",
    "\n",
    "        df.loc[i, \"electrical_power_generated_W\"] = electrical_power_generated\n",
    "        df.loc[i, \"solar_power_transmitted_W\"] = solar_power_transmitted\n",
    "        df.loc[i, \"transmitted_irradiance_W_per_m2\"] = transmitted_irradiance\n",
    "        df.loc[i, \"transparency\"] = transparency\n",
    "        df.loc[i, \"wasted_PPFD\"] = wasted_PPFD\n",
    "\n",
    "    total_power_generated: kWh = df[\"electrical_power_generated_W\"].sum() * time_period / 1000 / 3600\n",
    "    print(f\"Total power generated: {round(total_power_generated, 2)} kWh\")"
   ]
  },
  {
   "cell_type": "code",
   "execution_count": null,
   "metadata": {
    "cell_id": "00012-f63eedc1-3f13-4c2f-84ae-d88540033d17",
    "deepnote_cell_type": "code",
    "deepnote_output_heights": [
     1
    ],
    "deepnote_to_be_reexecuted": false,
    "execution_millis": 74,
    "source_hash": "88f400db",
    "tags": []
   },
   "outputs": [],
   "source": [
    "plots = None\n",
    "if not os.environ.get(\"USING_RUN\"):\n",
    "    plots = plot_multiline(\n",
    "        df, \n",
    "        [\"electrical_power_generated_W\", \"solar_power_transmitted_W\"], \n",
    "        width=900, \n",
    "        height=235, \n",
    "        title=\"\", \n",
    "        y_label=\"Watts\", \n",
    "        legend_label=\"\", \n",
    "        date_format=\"\"\n",
    "    ) & \\\n",
    "    plot_multiline_dual_y(\n",
    "        df, \n",
    "        [\"transmitted_irradiance_W_per_m2\"],\n",
    "        [\"transparency\"],\n",
    "        width=900, \n",
    "        height=235, \n",
    "        title=\"\", \n",
    "        y_labels=[\"Watts per m2\", \"transparency\"], \n",
    "        legend_label=\"\", \n",
    "        date_format=\"\"\n",
    "    ) & \\\n",
    "    plot_multiline(\n",
    "        df, \n",
    "        [\"wasted_PPFD\"], \n",
    "        width=900, \n",
    "        height=235, \n",
    "        title=\"\", \n",
    "        y_label=\"umol_per_m2_s\", \n",
    "        legend_label=\"\", \n",
    "        date_format=\"\"\n",
    "    )\n",
    "plots"
   ]
  },
  {
   "cell_type": "code",
   "execution_count": null,
   "metadata": {
    "cell_id": "00013-b76c1e4a-13f0-4f53-b60e-424b37feb4ad",
    "deepnote_cell_type": "code",
    "deepnote_to_be_reexecuted": false,
    "execution_millis": 204668,
    "source_hash": "b623e53d",
    "tags": []
   },
   "outputs": [],
   "source": []
  },
  {
   "cell_type": "markdown",
   "metadata": {
    "created_in_deepnote_cell": true,
    "deepnote_cell_type": "markdown",
    "tags": []
   },
   "source": [
    "<a style='text-decoration:none;line-height:16px;display:flex;color:#5B5B62;padding:10px;justify-content:end;' href='https://deepnote.com?utm_source=created-in-deepnote-cell&projectId=2f5dc715-67f7-4c8c-98f7-a87b736d3338' target=\"_blank\">\n",
    "<img alt='Created in deepnote.com' style='display:inline;max-height:16px;margin:0px;margin-right:7.5px;' src='data:image/svg+xml;base64,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' > </img>\n",
    "Created in <span style='font-weight:600;margin-left:4px;'>Deepnote</span></a>"
   ]
  }
 ],
 "metadata": {
  "deepnote": {
   "is_reactive": false
  },
  "deepnote_execution_queue": [],
  "deepnote_notebook_id": "627475a7-222d-4474-8ddc-b6452249d5df"
 },
 "nbformat": 4,
 "nbformat_minor": 2
}
