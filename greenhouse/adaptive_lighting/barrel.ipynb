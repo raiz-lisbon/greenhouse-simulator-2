{
 "cells": [
  {
   "cell_type": "code",
   "execution_count": null,
   "metadata": {
    "cell_id": "acb75b15-3034-49d3-b5a1-b89feb0bccfa",
    "deepnote_cell_height": 424.75,
    "deepnote_cell_type": "code",
    "deepnote_to_be_reexecuted": false,
    "execution_millis": 2585,
    "source_hash": "7bb49db8",
    "tags": []
   },
   "outputs": [],
   "source": [
    "import sys\n",
    "sys.path.insert(0, '/work/greenhouse-simulator-2/')\n",
    "\n",
    "from datetime import datetime, timezone\n",
    "import pandas as pd\n",
    "import math\n",
    "import matplotlib.pyplot as plt\n",
    "import numpy as np\n",
    "from scipy.integrate import simps\n",
    "from numpy import trapz\n",
    "\n",
    "from helpers.types import *\n",
    "from helpers.data_prep import *\n",
    "from helpers.solar_conversions import *\n",
    "from greenhouse.structure.structure import *"
   ]
  },
  {
   "cell_type": "code",
   "execution_count": null,
   "metadata": {
    "cell_id": "8bf5a641d04643319923dc2ace3f60d4",
    "deepnote_cell_height": 297,
    "deepnote_cell_type": "code",
    "deepnote_to_be_reexecuted": false,
    "execution_millis": 3,
    "source_hash": "5ab4dfdf",
    "tags": []
   },
   "outputs": [],
   "source": [
    "def get_azimuth_angles_of_faces(faces_on_full_circle=12):\n",
    "    assert faces_on_full_circle % 2 == 0, \"Number of faces needs to be even\"\n",
    "\n",
    "    angle_of_face: deg = 360 / faces_on_full_circle\n",
    "\n",
    "    azimuth_angles_of_faces = []\n",
    "    for i in range(int(faces_on_full_circle / 2)):\n",
    "        azimuth_of_face = angle_of_face / 2 + i * angle_of_face\n",
    "        azimuth_angles_of_faces.append(int(azimuth_of_face))\n",
    "\n",
    "    return azimuth_angles_of_faces\n",
    "\n",
    "azimuths_of_faces = get_azimuth_angles_of_faces(120)"
   ]
  },
  {
   "cell_type": "code",
   "execution_count": null,
   "metadata": {
    "cell_id": "04e0c4afb87c4a6892027c66084cba09",
    "deepnote_cell_height": 225,
    "deepnote_cell_type": "code",
    "deepnote_to_be_reexecuted": false,
    "execution_millis": 2,
    "source_hash": "57f6ba8e",
    "tags": []
   },
   "outputs": [],
   "source": [
    "sunlight: umol_per_m2_s = 1800\n",
    "led_light: umol_per_m2_s = 250\n",
    "\n",
    "rotation_period_time: s = 300\n",
    "\n",
    "latitude = 38.7436883\n",
    "longitude = -9.1952227\n",
    "\n",
    "timestamp = datetime(2020, 6, 22, 13, 40, 0, tzinfo=timezone.utc)"
   ]
  },
  {
   "cell_type": "code",
   "execution_count": null,
   "metadata": {
    "cell_id": "fd54169681264f0caea08fbd555ddeb2",
    "deepnote_cell_height": 81,
    "deepnote_cell_type": "code",
    "deepnote_to_be_reexecuted": false,
    "execution_millis": 3467947,
    "source_hash": "40335b90",
    "tags": []
   },
   "outputs": [],
   "source": [
    "coordinates = { \"latitude\": latitude, \"longitude\": longitude }"
   ]
  },
  {
   "cell_type": "code",
   "execution_count": null,
   "metadata": {
    "cell_id": "dacb8fde777441fa8e196bbf2d997854",
    "deepnote_cell_height": 611.1875,
    "deepnote_cell_type": "code",
    "deepnote_output_heights": [
     null,
     264
    ],
    "deepnote_to_be_reexecuted": false,
    "execution_millis": 580,
    "source_hash": "bb54a49e",
    "tags": []
   },
   "outputs": [],
   "source": [
    "data = []\n",
    "\n",
    "for azimuth in azimuths_of_faces:\n",
    "    int_coeff = get_intensity_coeff(coordinates, timestamp, 90, 270 - azimuth)\n",
    "    data.append({\n",
    "        \"azimuth\": azimuth,\n",
    "        \"intensity\": int_coeff\n",
    "    })\n",
    "\n",
    "df = pd.DataFrame(data)\n",
    "\n",
    "df.plot.line(\"azimuth\", \"intensity\")"
   ]
  },
  {
   "cell_type": "markdown",
   "metadata": {
    "cell_id": "e371eac8c7604924a5edf847e4097652",
    "deepnote_cell_type": "text-cell-h2",
    "is_collapsed": false,
    "tags": []
   },
   "source": [
    "## Pre-generate curve"
   ]
  },
  {
   "cell_type": "code",
   "execution_count": null,
   "metadata": {
    "cell_id": "c75d09c358db4e49b3fa07894266d78a",
    "deepnote_cell_height": 1143,
    "deepnote_cell_type": "code",
    "deepnote_to_be_reexecuted": false,
    "execution_millis": 3,
    "source_hash": "15757a3d",
    "tags": []
   },
   "outputs": [],
   "source": [
    "def create_sine(xmax, ymax, x_offset=0, resolution=1000):\n",
    "    \"\"\"\n",
    "    Creates a 'peak' of a sine function (part above the midline, pi period).\n",
    "\n",
    "    Parameters\n",
    "    ----------\n",
    "    xmax : float\n",
    "        Length of the period (relative to x_offset).\n",
    "    ymax : float\n",
    "        Y value of peak.\n",
    "    x_offset : float\n",
    "        Offset value along X axis.\n",
    "    resolution : int\n",
    "        Number of points within one peak.\n",
    "    \"\"\"\n",
    "\n",
    "    x = np.arange(0, xmax, 1/resolution)\n",
    "    y = np.sin(math.pi * x / xmax) * ymax\n",
    "\n",
    "    x += x_offset\n",
    "\n",
    "    return x, y\n",
    "\n",
    "def pad_sine(y_curve, x_length, x_start, resolution=1000):\n",
    "    \"\"\"\n",
    "    Stretches X axis (filled with zeros) to `x_length`, then adds the passed curve between `x_start`\n",
    "    and `x_start + x_length`.\n",
    "\n",
    "    Parameters\n",
    "    ----------\n",
    "    y_curve : np.array\n",
    "        Curve to be padded.\n",
    "    x_length : float\n",
    "        Total length of the X axis.\n",
    "    x_start : float\n",
    "        Value on X axis where `y_curve` should start.\n",
    "    resolution : int\n",
    "        Number of points within one peak.\n",
    "    \"\"\"\n",
    "\n",
    "    # Handle case if x_start negative\n",
    "    y_curve_first_half = []\n",
    "    if x_start < 0:\n",
    "        y_curve_first_half = y_curve[0:int(abs(x_start))+1]\n",
    "        y_curve = y_curve[int(abs(x_start)):]\n",
    "        x_start = 0\n",
    "\n",
    "    # Create a horizontal line at y=0 from x=0 to x=x_length\n",
    "    x = np.arange(0, x_length, 1 / resolution)\n",
    "    y = np.zeros(x_length * resolution)\n",
    "\n",
    "    # Replace part of the line between the specified coordinates\n",
    "    x_start_idx = round(resolution * x_start)\n",
    "    x_end_idx = x_start_idx + len(y_curve)\n",
    "    y[x_start_idx:x_end_idx] = y_curve\n",
    "\n",
    "    if len(y_curve_first_half):\n",
    "        y[-len(y_curve_first_half):] = y_curve_first_half\n",
    "\n",
    "    return x, y"
   ]
  },
  {
   "cell_type": "code",
   "execution_count": null,
   "metadata": {
    "cell_id": "69fdc30777974b3e8f737835f2e35637",
    "deepnote_cell_height": 873,
    "deepnote_cell_type": "code",
    "deepnote_to_be_reexecuted": false,
    "execution_millis": 9,
    "is_code_hidden": false,
    "source_hash": "182a090b",
    "tags": []
   },
   "outputs": [],
   "source": [
    "def create_exposure_curves(curves, rotation_period, resolution=1000):\n",
    "    \"\"\"\n",
    "    Creates curves that represent light exposure as function of rotation.\n",
    "\n",
    "    Parameters\n",
    "    ----------\n",
    "    curves : dict\n",
    "        Dict keys are curve names, values are a tuple containing (xmin, xlen, ymax,)\n",
    "    rotation_period : s\n",
    "        Length of one rotation.\n",
    "    resolution : int\n",
    "        Number of points within one peak.\n",
    "    \"\"\"\n",
    "\n",
    "    def angle_to_sec(angle: deg) -> s:\n",
    "        return angle / 360 * rotation_period\n",
    "\n",
    "    results = { \n",
    "        \"total\": { \n",
    "            \"x\": np.arange(0, rotation_period, 1 / resolution), \n",
    "            \"y\": np.zeros(rotation_period * resolution)\n",
    "        }\n",
    "    }\n",
    "\n",
    "    # Create individual exposure curves\n",
    "    for curve_name in curves:\n",
    "        xmin, xlen, ymax = curves[curve_name]\n",
    "\n",
    "        # Convert from angles to seconds\n",
    "        xmin = angle_to_sec(xmin)\n",
    "        xlen = angle_to_sec(xlen)\n",
    "        # Create base sine curve\n",
    "        x, y = create_sine(xlen, ymax, resolution=resolution)\n",
    "\n",
    "        # Extend X axis to full period length and slice in the sine curve\n",
    "        x, y = pad_sine(y, x_length=rotation_period, x_start=xmin, resolution=resolution)\n",
    "\n",
    "        results[curve_name] = {\"x\": x, \"y\": y}\n",
    "\n",
    "    # Sum all curves to create `total`\n",
    "    for result_name in results:\n",
    "        result = results[result_name]\n",
    "        results[\"total\"][\"y\"] += result[\"y\"]\n",
    "\n",
    "    return results"
   ]
  },
  {
   "cell_type": "code",
   "execution_count": null,
   "metadata": {
    "cell_id": "76da30d9e0c94fc8bf15c6c236875dae",
    "deepnote_cell_height": 1071,
    "deepnote_cell_type": "code",
    "deepnote_to_be_reexecuted": false,
    "execution_millis": 3467885,
    "is_code_hidden": false,
    "source_hash": "98dcf9cc",
    "tags": []
   },
   "outputs": [],
   "source": [
    "def get_curve_configs(\n",
    "    sun_ppfd: umol_per_m2=None,\n",
    "    led_ppfd: umol_per_m2=None,\n",
    "    rotation_period: s=600,\n",
    "    angle_exposed_to_sun: deg=180,\n",
    "    angle_exposed_to_single_led: deg=90,\n",
    "    inter_led_angle: deg=45,\n",
    "    resolution=1000,\n",
    "):\n",
    "    \"\"\"\n",
    "    Creates the superposition of exposure curves of each individual light source to get\n",
    "    the total irradiance of a plant.\n",
    "\n",
    "    Parameters\n",
    "    ----------\n",
    "    sun_ppfd : umol_per_m2 | umol_per_m2[]\n",
    "        Irradiance of sunlight (on a vertical surface perpendicular to the suns rays).\n",
    "        If a list, length should equal to rotation_period * resolution.\n",
    "    led_ppfd : umol_per_m2 | umol_per_m2[]\n",
    "        Irradiance from a single light fixture. \n",
    "        If a list, length should equal to rotation_period * resolution.\n",
    "    rotation_period : s\n",
    "        Time it takes for the barrel to do a full rotation.\n",
    "    angle_exposed_to_sun : deg\n",
    "        Central angle between 2 radii that points to the start and end points of the barrel surface that\n",
    "        is exposed to the sun.\n",
    "    angle_exposed_to_single_led : deg\n",
    "        Central angle between 2 radii that points to the start and end points of the barrel surface that\n",
    "        is exposed to light from a single fixture.\n",
    "    inter_led_angle : deg\n",
    "        Angle between 2 radii that points to the center points of 2 adjacent light fixtures.\n",
    "    resolution : int\n",
    "        Number of points within one peak.\n",
    "    \"\"\"\n",
    "\n",
    "    sun_azimuth: deg = 0\n",
    "\n",
    "    sun_start: deg = sun_azimuth - angle_exposed_to_sun / 2\n",
    "    led_1_start: deg = 180 - inter_led_angle - angle_exposed_to_single_led / 2\n",
    "    led_2_start: deg = led_1_start + inter_led_angle\n",
    "    led_3_start: deg = led_2_start + inter_led_angle\n",
    "\n",
    "    curves = {\n",
    "        \"sun\": [sun_start, angle_exposed_to_sun],\n",
    "        \"led_1\": [led_1_start, angle_exposed_to_single_led],\n",
    "        \"led_2\": [led_2_start, angle_exposed_to_single_led],\n",
    "        \"led_3\": [led_3_start, angle_exposed_to_single_led]\n",
    "    }\n",
    "\n",
    "    # If PPFD values are defined, add them as a 3rd element\n",
    "    if sun_ppfd and led_ppfd:\n",
    "        for curve_name in curves:\n",
    "            ppfd = led_ppfd if \"led\" in curve_name else sun_ppfd\n",
    "            curves[curve_name] = [*curves[curve_name], ppfd]\n",
    "\n",
    "    return curves"
   ]
  },
  {
   "cell_type": "code",
   "execution_count": null,
   "metadata": {
    "cell_id": "a63f0d57b2b24c37bbd5614a09adc315",
    "deepnote_cell_height": 243,
    "deepnote_cell_type": "code",
    "deepnote_to_be_reexecuted": false,
    "execution_millis": 0,
    "source_hash": "52fb0fb0",
    "tags": []
   },
   "outputs": [],
   "source": [
    "def plot_curves(results):\n",
    "    for result_name in results:\n",
    "        if result_name != \"total\":\n",
    "            result = results[result_name]\n",
    "            plt.plot(result[\"x\"], result[\"y\"], label=result_name)\n",
    "\n",
    "    plt.plot(results[\"total\"][\"x\"], results[\"total\"][\"y\"], label=\"total\", linewidth=3)\n",
    "\n",
    "    plt.legend()\n",
    "    plt.show()"
   ]
  },
  {
   "cell_type": "code",
   "execution_count": null,
   "metadata": {
    "cell_id": "0523ad9d3c074698ab1a44dc58da10ff",
    "deepnote_cell_height": 545,
    "deepnote_cell_type": "code",
    "deepnote_output_heights": [
     250
    ],
    "deepnote_to_be_reexecuted": false,
    "execution_millis": 595,
    "source_hash": "7d69aff2",
    "tags": []
   },
   "outputs": [],
   "source": [
    "rotation_period: s = 600\n",
    "resolution = 1\n",
    "curves = get_curve_configs(\n",
    "    sun_ppfd=1000,\n",
    "    led_ppfd=300,\n",
    "    rotation_period=rotation_period, \n",
    "    resolution=1\n",
    ")\n",
    "results = create_exposure_curves(curves, rotation_period, resolution=resolution)\n",
    "\n",
    "\n",
    "plot_curves(results)"
   ]
  },
  {
   "cell_type": "code",
   "execution_count": null,
   "metadata": {
    "cell_id": "71347d9087b1431fb7f552a7a7a9adf7",
    "deepnote_cell_height": 723,
    "deepnote_cell_type": "code",
    "deepnote_output_heights": [
     21.1875,
     250
    ],
    "deepnote_to_be_reexecuted": false,
    "execution_millis": 314,
    "source_hash": "156305ca",
    "tags": []
   },
   "outputs": [],
   "source": [
    "val1 = []\n",
    "val2 = []\n",
    "total = []\n",
    "values = results[\"total\"][\"y\"]\n",
    "quart_len = int(len(values) / 4)\n",
    "for i in range(2*quart_len):\n",
    "    idx_1 = 3 * quart_len + i\n",
    "    if idx_1 >= len(values):\n",
    "        idx_1 = idx_1 - len(values)\n",
    "    idx_2 = quart_len + i\n",
    "    pt_1 = values[idx_1]\n",
    "    pt_2 = values[idx_2]\n",
    "    val1.append(pt_1)\n",
    "    val2.append(pt_2)\n",
    "    total.append(pt_1 + pt_2)\n",
    "\n",
    "plt.plot(val1)\n",
    "plt.plot(val2)\n",
    "plt.plot(total)"
   ]
  },
  {
   "cell_type": "markdown",
   "metadata": {
    "cell_id": "dc611257c5264ee2becf2c503531a419",
    "deepnote_cell_type": "text-cell-h3",
    "is_collapsed": false,
    "tags": []
   },
   "source": [
    "### Set up daily light plan"
   ]
  },
  {
   "cell_type": "code",
   "execution_count": null,
   "metadata": {
    "cell_id": "0ec1d60bfcc34602b1920358daf344e4",
    "deepnote_cell_height": 387,
    "deepnote_cell_type": "code",
    "deepnote_to_be_reexecuted": false,
    "execution_millis": 0,
    "source_hash": "b40db267",
    "tags": []
   },
   "outputs": [],
   "source": [
    "def calc_lighting_plan(photoperiod_h=14, ramp_length_h=1, period_length: s=600):\n",
    "    photoperiod: s = photoperiod_h * 60 * 60\n",
    "    ramp_length: s = ramp_length_h * 60 * 60\n",
    "\n",
    "    period_count = int(photoperiod / period_length)\n",
    "    ramp_period_count = int(ramp_length / period_length)\n",
    "    const_period_count = period_count - 2 * ramp_period_count\n",
    "\n",
    "    x_on = np.arange(0, ramp_period_count, 1 / ramp_period_count)\n",
    "    y_on = np.sin(math.pi * x_on / ramp_period_count / 2)\n",
    "\n",
    "    x_const = np.arange(ramp_period_count, ramp_period_count + const_period_count, 1 / const_period_count)\n",
    "    y_const = np.ones(len(x_const))\n",
    "\n",
    "    x_off = np.arange(ramp_period_count + const_period_count, 2 * ramp_period_count + const_period_count, 1 / ramp_period_count)\n",
    "    y_off = np.sin(math.pi * x_off / ramp_period_count / 2)\n",
    "\n",
    "    return x_on, y_on, x_const, y_const, x_off, y_off"
   ]
  },
  {
   "cell_type": "code",
   "execution_count": null,
   "metadata": {
    "cell_id": "05f586feac2441169ee64bc08ab44bc3",
    "deepnote_cell_height": 779.390625,
    "deepnote_cell_type": "code",
    "deepnote_output_heights": [
     21.1875,
     486.203125
    ],
    "deepnote_to_be_reexecuted": false,
    "execution_millis": 292,
    "source_hash": "2f8d5200",
    "tags": []
   },
   "outputs": [],
   "source": [
    "period_length: s = 600\n",
    "\n",
    "x_on, y_on, x_const, y_const, x_off, y_off = calc_lighting_plan(period_length=period_length)\n",
    "\n",
    "plt.figure(figsize=(16,9))\n",
    "plt.plot(x_on, y_on)\n",
    "plt.plot(x_const, y_const)\n",
    "plt.plot(x_off, y_off)\n"
   ]
  },
  {
   "cell_type": "code",
   "execution_count": null,
   "metadata": {
    "cell_id": "bbbb17c2faf54819a03ac9a9ee30ac6a",
    "deepnote_cell_height": 118.1875,
    "deepnote_cell_type": "code",
    "deepnote_output_heights": [
     21.1875
    ],
    "deepnote_to_be_reexecuted": false,
    "execution_millis": 3,
    "source_hash": "8d59e2f9",
    "tags": []
   },
   "outputs": [],
   "source": [
    "(sum(y_on * period_length) + sum(y_const * period_length) + sum(y_off * period_length)) / 1e6"
   ]
  },
  {
   "cell_type": "code",
   "execution_count": null,
   "metadata": {
    "cell_id": "d8ebe9a788064843a7e059bee0df5f68",
    "deepnote_cell_height": 252.5,
    "deepnote_cell_type": "code",
    "deepnote_output_heights": [
     155.5
    ],
    "deepnote_to_be_reexecuted": false,
    "execution_millis": 5,
    "source_hash": "d7feff25",
    "tags": []
   },
   "outputs": [],
   "source": [
    "y_on"
   ]
  },
  {
   "cell_type": "code",
   "execution_count": null,
   "metadata": {
    "cell_id": "8ab4a4b0d39045dcb56323b6f3c8881d",
    "deepnote_cell_height": 66,
    "deepnote_cell_type": "code",
    "tags": []
   },
   "outputs": [],
   "source": []
  },
  {
   "cell_type": "markdown",
   "metadata": {
    "created_in_deepnote_cell": true,
    "deepnote_cell_type": "markdown",
    "tags": []
   },
   "source": [
    "<a style='text-decoration:none;line-height:16px;display:flex;color:#5B5B62;padding:10px;justify-content:end;' href='https://deepnote.com?utm_source=created-in-deepnote-cell&projectId=2f5dc715-67f7-4c8c-98f7-a87b736d3338' target=\"_blank\">\n",
    "<img alt='Created in deepnote.com' style='display:inline;max-height:16px;margin:0px;margin-right:7.5px;' src='data:image/svg+xml;base64,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' > </img>\n",
    "Created in <span style='font-weight:600;margin-left:4px;'>Deepnote</span></a>"
   ]
  }
 ],
 "metadata": {
  "deepnote": {
   "is_reactive": false
  },
  "deepnote_execution_queue": [],
  "deepnote_notebook_id": "3f67d834-9639-4d51-ad33-249cfa5ffaec"
 },
 "nbformat": 4,
 "nbformat_minor": 2
}
