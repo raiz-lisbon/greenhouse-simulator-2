{
 "cells": [
  {
   "cell_type": "code",
   "execution_count": null,
   "metadata": {
    "cell_id": "d73852eb-aabb-4318-ad97-73fdff03d654",
    "deepnote_cell_height": 424.75,
    "deepnote_cell_type": "code",
    "deepnote_to_be_reexecuted": false,
    "execution_millis": 5105,
    "source_hash": "7bb49db8",
    "tags": []
   },
   "outputs": [],
   "source": [
    "import sys\n",
    "sys.path.insert(0, '/work/greenhouse-simulator-2/')\n",
    "\n",
    "from datetime import datetime, timezone\n",
    "import pandas as pd\n",
    "import math\n",
    "import matplotlib.pyplot as plt\n",
    "import numpy as np\n",
    "from scipy.integrate import simps\n",
    "from numpy import trapz\n",
    "\n",
    "from helpers.types import *\n",
    "from helpers.data_prep import *\n",
    "from helpers.solar_conversions import *\n",
    "from greenhouse.structure.structure import *"
   ]
  },
  {
   "cell_type": "markdown",
   "metadata": {
    "cell_id": "00011-ae9e46b6-8b1c-439c-bf3d-ca98d88a09d3",
    "deepnote_cell_type": "text-cell-h2",
    "is_collapsed": false,
    "tags": []
   },
   "source": [
    "## Generate curve real-time"
   ]
  },
  {
   "cell_type": "code",
   "execution_count": null,
   "metadata": {
    "cell_id": "00008-7f6bfc54-948e-4164-8308-13ff9a39105c",
    "deepnote_cell_height": 1035,
    "deepnote_cell_type": "code",
    "deepnote_to_be_reexecuted": false,
    "execution_millis": 29,
    "is_code_hidden": false,
    "source_hash": "a2496c6a",
    "tags": []
   },
   "outputs": [],
   "source": [
    "def get_curve_configs(\n",
    "    sun_ppfd: umol_per_m2=None,\n",
    "    led_ppfd: umol_per_m2=None,\n",
    "    rotation_period: s=600,\n",
    "    angle_exposed_to_sun: deg=180,\n",
    "    angle_exposed_to_single_led: deg=90,\n",
    "    inter_led_angle: deg=45,\n",
    "    resolution=1000,\n",
    "):\n",
    "    \"\"\"\n",
    "    Creates the superposition of exposure curves of each individual light source to get\n",
    "    the total irradiance of a plant.\n",
    "\n",
    "    Parameters\n",
    "    ----------\n",
    "    sun_ppfd : umol_per_m2 | umol_per_m2[]\n",
    "        Irradiance of sunlight (on a vertical surface perpendicular to the suns rays).\n",
    "        If a list, length should equal to rotation_period * resolution.\n",
    "    led_ppfd : umol_per_m2 | umol_per_m2[]\n",
    "        Irradiance from a single light fixture. \n",
    "        If a list, length should equal to rotation_period * resolution.\n",
    "    rotation_period : s\n",
    "        Time it takes for the barrel to do a full rotation.\n",
    "    angle_exposed_to_sun : deg\n",
    "        Central angle between 2 radii that points to the start and end points of the barrel surface that\n",
    "        is exposed to the sun.\n",
    "    angle_exposed_to_single_led : deg\n",
    "        Central angle between 2 radii that points to the start and end points of the barrel surface that\n",
    "        is exposed to light from a single fixture.\n",
    "    inter_led_angle : deg\n",
    "        Angle between 2 radii that points to the center points of 2 adjacent light fixtures.\n",
    "    resolution : int\n",
    "        Number of points within one peak.\n",
    "    \"\"\"\n",
    "\n",
    "    sun_azimuth: deg = 0\n",
    "\n",
    "    sun_start: deg = sun_azimuth - angle_exposed_to_sun / 2\n",
    "    led_1_start: deg = 180 - inter_led_angle - angle_exposed_to_single_led / 2\n",
    "    led_2_start: deg = led_1_start + inter_led_angle\n",
    "    led_3_start: deg = led_2_start + inter_led_angle\n",
    "\n",
    "    curves = {\n",
    "        \"sun\": [sun_start, angle_exposed_to_sun],\n",
    "        \"led_1\": [led_1_start, angle_exposed_to_single_led],\n",
    "        \"led_2\": [led_2_start, angle_exposed_to_single_led],\n",
    "        \"led_3\": [led_3_start, angle_exposed_to_single_led]\n",
    "    }\n",
    "\n",
    "    if sun_start < 0:\n",
    "        curves[\"sun\"] = [sun_start, angle_exposed_to_sun]\n",
    "        curves[\"sun_next\"] = [360 - abs(sun_start), angle_exposed_to_sun]\n",
    "\n",
    "    return curves"
   ]
  },
  {
   "cell_type": "code",
   "execution_count": null,
   "metadata": {
    "cell_id": "6ee570d7f1954cbe8e3b0a4e76531b30",
    "deepnote_cell_height": 99,
    "deepnote_cell_type": "code",
    "deepnote_to_be_reexecuted": false,
    "execution_millis": 59102,
    "source_hash": "8f95a156",
    "tags": []
   },
   "outputs": [],
   "source": [
    "def get_ppfd_of_light_source(x, xmax, ymax):\n",
    "    return np.sin(math.pi * x / xmax) * ymax"
   ]
  },
  {
   "cell_type": "code",
   "execution_count": null,
   "metadata": {
    "cell_id": "00016-4564472d-462e-4d9d-be30-f9317986132b",
    "deepnote_cell_height": 531,
    "deepnote_cell_type": "code",
    "deepnote_to_be_reexecuted": false,
    "execution_millis": 0,
    "source_hash": "505128cb",
    "tags": []
   },
   "outputs": [],
   "source": [
    "def get_total_ppfd(t, angle, sun_ppfd, led_ppfd, light_sources, rotation_period=600):\n",
    "    \"\"\"\n",
    "    Parameters\n",
    "    ----------\n",
    "    t : int\n",
    "        Seconds since the start of the last rotation\n",
    "    \"\"\"\n",
    "\n",
    "    def angle_to_sec(angle: deg) -> s:\n",
    "        return angle / 360 * rotation_period\n",
    "\n",
    "    ppfd_of_current_t = 0\n",
    "    for light_source_name in light_sources:\n",
    "        x_start, length = light_sources[light_source_name]\n",
    "\n",
    "        # Convert angles to seconds\n",
    "        x_start_s = angle_to_sec(x_start)\n",
    "        length_s = angle_to_sec(length)\n",
    "\n",
    "        intensity = led_ppfd if \"led\" in light_source_name else sun_ppfd\n",
    "\n",
    "        # Check which light sources can reach the current plant\n",
    "        if x_start <= angle and angle <= x_start + length:\n",
    "            y = get_ppfd_of_light_source(t - x_start_s, length_s, intensity)\n",
    "            ppfd_of_current_t += y\n",
    "    return ppfd_of_current_t"
   ]
  },
  {
   "cell_type": "code",
   "execution_count": null,
   "metadata": {
    "cell_id": "1dc840fe3c0a428cb0209e337db08691",
    "deepnote_cell_height": 603,
    "deepnote_cell_type": "code",
    "deepnote_to_be_reexecuted": false,
    "execution_millis": 12,
    "source_hash": "5d528c97",
    "tags": []
   },
   "outputs": [],
   "source": [
    "def get_sun_and_led_ppfd(t, angle, sun_ppfd, led_ppfd, light_sources, rotation_period=600):\n",
    "    \"\"\"\n",
    "    Parameters\n",
    "    ----------\n",
    "    t : int\n",
    "        Seconds since the start of the last rotation\n",
    "    \"\"\"\n",
    "\n",
    "    def angle_to_sec(angle: deg) -> s:\n",
    "        return angle / 360 * rotation_period\n",
    "\n",
    "    ppfd_of_current_t_sun = 0\n",
    "    ppfd_of_current_t_led = 0\n",
    "    for light_source_name in light_sources:\n",
    "        x_start, length = light_sources[light_source_name]\n",
    "\n",
    "        # Convert angles to seconds\n",
    "        x_start_s = angle_to_sec(x_start)\n",
    "        length_s = angle_to_sec(length)\n",
    "\n",
    "        intensity = led_ppfd if \"led\" in light_source_name else sun_ppfd\n",
    "\n",
    "        # Check which light sources can reach the current plant\n",
    "        if x_start <= angle and angle <= x_start + length:\n",
    "            y = get_ppfd_of_light_source(t - x_start_s, length_s, intensity)\n",
    "            if \"led\" in light_source_name:\n",
    "                ppfd_of_current_t_led += y\n",
    "            else:\n",
    "                ppfd_of_current_t_sun += y\n",
    "    return ppfd_of_current_t_sun, ppfd_of_current_t_led"
   ]
  },
  {
   "cell_type": "code",
   "execution_count": null,
   "metadata": {
    "cell_id": "00017-e2505a15-620f-418e-a24e-443bce53d4df",
    "deepnote_cell_height": 171,
    "deepnote_cell_type": "code",
    "deepnote_to_be_reexecuted": false,
    "execution_millis": 3,
    "source_hash": "62a74abc",
    "tags": []
   },
   "outputs": [],
   "source": [
    "def get_led_ppfd(seconds_since_midnight) -> umol_per_m2_s:\n",
    "    if seconds_since_midnight < 4 * 60 * 60: # 6 AM\n",
    "        return 0\n",
    "    if 22 * 60 * 60 < seconds_since_midnight: # 10 PM\n",
    "        return 0\n",
    "    return 343"
   ]
  },
  {
   "cell_type": "code",
   "execution_count": null,
   "metadata": {
    "cell_id": "00022-a8391c21-1f5a-4f59-b87d-8f6c73f97084",
    "deepnote_cell_height": 919.1875,
    "deepnote_cell_type": "code",
    "deepnote_output_heights": [
     null,
     482
    ],
    "deepnote_to_be_reexecuted": false,
    "execution_millis": 514,
    "source_hash": "84a2760a",
    "tags": []
   },
   "outputs": [],
   "source": [
    "rotation_period = 600\n",
    "resolution = 1\n",
    "\n",
    "light_sources = get_curve_configs(\n",
    "    rotation_period=rotation_period, \n",
    "    resolution=resolution\n",
    ")\n",
    "\n",
    "results = []\n",
    "for t in range(rotation_period):\n",
    "    sun_ppfd: umol_per_m2_s = 1000\n",
    "    led_ppfd: umol_per_m2_s = 343\n",
    "    angle: deg = t / rotation_period * 360\n",
    "    results.append(get_total_ppfd(t, angle, sun_ppfd, led_ppfd, light_sources, rotation_period=rotation_period))\n",
    "\n",
    "plt.figure(figsize=(16,9))\n",
    "plt.plot(results)"
   ]
  },
  {
   "cell_type": "code",
   "execution_count": null,
   "metadata": {
    "cell_id": "ee17819ec22d49a5858c82734622c8bd",
    "deepnote_cell_height": 81,
    "deepnote_cell_type": "code",
    "deepnote_to_be_reexecuted": false,
    "execution_millis": 2,
    "source_hash": "f5433d43",
    "tags": []
   },
   "outputs": [],
   "source": [
    "coordinates = { \"latitude\": 38.7436883, \"longitude\": -9.1952227 }"
   ]
  },
  {
   "cell_type": "code",
   "execution_count": null,
   "metadata": {
    "cell_id": "00023-f9a03b10-1554-40d0-aeef-6679f17b0875",
    "deepnote_cell_height": 1103.65625,
    "deepnote_cell_type": "code",
    "deepnote_output_heights": [
     484.65625
    ],
    "deepnote_to_be_reexecuted": false,
    "execution_millis": 129693,
    "source_hash": "cac1ff88",
    "tags": []
   },
   "outputs": [],
   "source": [
    "resample_period = \"5s\"\n",
    "df = get_weather_data(date_from=\"2020-01-10\", date_to=\"2020-01-11\", resample_period=resample_period)\n",
    "\n",
    "results_sun = []\n",
    "results_led = []\n",
    "for timestamp, row in df.iterrows():\n",
    "    sun_azimuth = get_azimuth_angle(coordinates, timestamp)\n",
    "    intensity_coeff = get_intensity_coeff(coordinates, timestamp, panel_tilt=90, panel_azimuth=sun_azimuth)\n",
    "\n",
    "    seconds_since_midnight = int((timestamp - timestamp.replace(hour=0, minute=0, second=0, microsecond=0)).total_seconds())\n",
    "    t = seconds_since_midnight % rotation_period\n",
    "    angle: deg = t / rotation_period * 360\n",
    "    sun_ppfd: umol_per_m2_s = irradiance_to_PPFD(intensity_coeff * row.solarradiation * 0.88)\n",
    "\n",
    "    elevation_angle = get_elevation_angle(coordinates, timestamp)\n",
    "    # print(timestamp.hour, intensity_coeff, row.solarradiation, sun_ppfd, elevation_angle)\n",
    "    led_ppfd: umol_per_m2_s = get_led_ppfd(seconds_since_midnight)\n",
    "    \n",
    "    # results.append(get_total_ppfd(t, angle, sun_ppfd, led_ppfd, light_sources, rotation_period=rotation_period))\n",
    "    sun_ppfd, led_ppfd = get_sun_and_led_ppfd(t, angle, sun_ppfd, led_ppfd, light_sources, rotation_period=rotation_period)\n",
    "    results_sun.append(sun_ppfd)\n",
    "    results_led.append(led_ppfd)\n",
    "\n",
    "\n",
    "plt.figure(figsize=(16,9))\n",
    "plt.plot(results_sun, label=\"sun\")\n",
    "plt.plot(results_led, label=\"led\")\n",
    "plt.legend()\n",
    "plt.show()\n"
   ]
  },
  {
   "cell_type": "code",
   "execution_count": null,
   "metadata": {
    "cell_id": "5ab79a87b7aa4ce89eae68a0229689bd",
    "deepnote_cell_height": 653.65625,
    "deepnote_cell_type": "code",
    "deepnote_output_heights": [
     484.65625
    ],
    "deepnote_to_be_reexecuted": false,
    "execution_millis": 307,
    "source_hash": "b112b647",
    "tags": []
   },
   "outputs": [],
   "source": [
    "plt.figure(figsize=(16,9))\n",
    "plt.plot(results_sun[7500:9000], label=\"sun\")\n",
    "plt.plot(results_led[7500:9000], label=\"led\")\n",
    "plt.legend()\n",
    "plt.show()"
   ]
  },
  {
   "cell_type": "code",
   "execution_count": null,
   "metadata": {
    "cell_id": "00024-d5362167-f7b1-4a06-a0ae-e5db6a7f4f37",
    "deepnote_cell_height": 278.5625,
    "deepnote_cell_type": "code",
    "deepnote_to_be_reexecuted": false,
    "execution_millis": 7,
    "source_hash": "d995703",
    "tags": []
   },
   "outputs": [],
   "source": [
    "area_sun: umol_per_m2 = trapz(results_sun, dx=pd.Timedelta(resample_period).seconds)\n",
    "area_led: umol_per_m2 = trapz(results_led, dx=pd.Timedelta(resample_period).seconds)\n",
    "dli_sun: mol_per_m2_day = area_sun / 1e6\n",
    "dli_led: mol_per_m2_day = area_led / 1e6\n",
    "print(\"Sun:\", round(dli_sun, 2))\n",
    "print(\"LED:\", round(dli_led, 2))\n",
    "print(\"Total:\", round(dli_sun + dli_led, 2))\n"
   ]
  },
  {
   "cell_type": "code",
   "execution_count": null,
   "metadata": {
    "cell_id": "00025-1453ba5d-ea7f-4923-828b-8cbdfb8a2dd2",
    "deepnote_cell_height": 204.375,
    "deepnote_cell_type": "code",
    "deepnote_to_be_reexecuted": false,
    "execution_millis": 11,
    "source_hash": "a4c4f89",
    "tags": []
   },
   "outputs": [],
   "source": [
    "timestamp = datetime(2020, 6, 21, 13, 0, 0, tzinfo=timezone.utc)\n",
    "sun_azimuth = get_azimuth_angle(coordinates, timestamp)\n",
    "intensity_coeff = get_intensity_coeff(coordinates, timestamp, panel_tilt=90, panel_azimuth=sun_azimuth)\n",
    "print(sun_azimuth)\n",
    "print(intensity_coeff)"
   ]
  },
  {
   "cell_type": "code",
   "execution_count": null,
   "metadata": {
    "cell_id": "e74258699ea54e50b25b1628aabba822",
    "deepnote_cell_height": 81,
    "deepnote_cell_type": "code",
    "deepnote_to_be_reexecuted": false,
    "source_hash": "b623e53d",
    "tags": []
   },
   "outputs": [],
   "source": []
  },
  {
   "cell_type": "markdown",
   "metadata": {
    "created_in_deepnote_cell": true,
    "deepnote_cell_type": "markdown",
    "tags": []
   },
   "source": [
    "<a style='text-decoration:none;line-height:16px;display:flex;color:#5B5B62;padding:10px;justify-content:end;' href='https://deepnote.com?utm_source=created-in-deepnote-cell&projectId=2f5dc715-67f7-4c8c-98f7-a87b736d3338' target=\"_blank\">\n",
    "<img alt='Created in deepnote.com' style='display:inline;max-height:16px;margin:0px;margin-right:7.5px;' src='data:image/svg+xml;base64,PD94bWwgdmVyc2lvbj0iMS4wIiBlbmNvZGluZz0iVVRGLTgiPz4KPHN2ZyB3aWR0aD0iODBweCIgaGVpZ2h0PSI4MHB4IiB2aWV3Qm94PSIwIDAgODAgODAiIHZlcnNpb249IjEuMSIgeG1sbnM9Imh0dHA6Ly93d3cudzMub3JnLzIwMDAvc3ZnIiB4bWxuczp4bGluaz0iaHR0cDovL3d3dy53My5vcmcvMTk5OS94bGluayI+CiAgICA8IS0tIEdlbmVyYXRvcjogU2tldGNoIDU0LjEgKDc2NDkwKSAtIGh0dHBzOi8vc2tldGNoYXBwLmNvbSAtLT4KICAgIDx0aXRsZT5Hcm91cCAzPC90aXRsZT4KICAgIDxkZXNjPkNyZWF0ZWQgd2l0aCBTa2V0Y2guPC9kZXNjPgogICAgPGcgaWQ9IkxhbmRpbmciIHN0cm9rZT0ibm9uZSIgc3Ryb2tlLXdpZHRoPSIxIiBmaWxsPSJub25lIiBmaWxsLXJ1bGU9ImV2ZW5vZGQiPgogICAgICAgIDxnIGlkPSJBcnRib2FyZCIgdHJhbnNmb3JtPSJ0cmFuc2xhdGUoLTEyMzUuMDAwMDAwLCAtNzkuMDAwMDAwKSI+CiAgICAgICAgICAgIDxnIGlkPSJHcm91cC0zIiB0cmFuc2Zvcm09InRyYW5zbGF0ZSgxMjM1LjAwMDAwMCwgNzkuMDAwMDAwKSI+CiAgICAgICAgICAgICAgICA8cG9seWdvbiBpZD0iUGF0aC0yMCIgZmlsbD0iIzAyNjVCNCIgcG9pbnRzPSIyLjM3NjIzNzYyIDgwIDM4LjA0NzY2NjcgODAgNTcuODIxNzgyMiA3My44MDU3NTkyIDU3LjgyMTc4MjIgMzIuNzU5MjczOSAzOS4xNDAyMjc4IDMxLjY4MzE2ODMiPjwvcG9seWdvbj4KICAgICAgICAgICAgICAgIDxwYXRoIGQ9Ik0zNS4wMDc3MTgsODAgQzQyLjkwNjIwMDcsNzYuNDU0OTM1OCA0Ny41NjQ5MTY3LDcxLjU0MjI2NzEgNDguOTgzODY2LDY1LjI2MTk5MzkgQzUxLjExMjI4OTksNTUuODQxNTg0MiA0MS42NzcxNzk1LDQ5LjIxMjIyODQgMjUuNjIzOTg0Niw0OS4yMTIyMjg0IEMyNS40ODQ5Mjg5LDQ5LjEyNjg0NDggMjkuODI2MTI5Niw0My4yODM4MjQ4IDM4LjY0NzU4NjksMzEuNjgzMTY4MyBMNzIuODcxMjg3MSwzMi41NTQ0MjUgTDY1LjI4MDk3Myw2Ny42NzYzNDIxIEw1MS4xMTIyODk5LDc3LjM3NjE0NCBMMzUuMDA3NzE4LDgwIFoiIGlkPSJQYXRoLTIyIiBmaWxsPSIjMDAyODY4Ij48L3BhdGg+CiAgICAgICAgICAgICAgICA8cGF0aCBkPSJNMCwzNy43MzA0NDA1IEwyNy4xMTQ1MzcsMC4yNTcxMTE0MzYgQzYyLjM3MTUxMjMsLTEuOTkwNzE3MDEgODAsMTAuNTAwMzkyNyA4MCwzNy43MzA0NDA1IEM4MCw2NC45NjA0ODgyIDY0Ljc3NjUwMzgsNzkuMDUwMzQxNCAzNC4zMjk1MTEzLDgwIEM0Ny4wNTUzNDg5LDc3LjU2NzA4MDggNTMuNDE4MjY3Nyw3MC4zMTM2MTAzIDUzLjQxODI2NzcsNTguMjM5NTg4NSBDNTMuNDE4MjY3Nyw0MC4xMjg1NTU3IDM2LjMwMzk1NDQsMzcuNzMwNDQwNSAyNS4yMjc0MTcsMzcuNzMwNDQwNSBDMTcuODQzMDU4NiwzNy43MzA0NDA1IDkuNDMzOTE5NjYsMzcuNzMwNDQwNSAwLDM3LjczMDQ0MDUgWiIgaWQ9IlBhdGgtMTkiIGZpbGw9IiMzNzkzRUYiPjwvcGF0aD4KICAgICAgICAgICAgPC9nPgogICAgICAgIDwvZz4KICAgIDwvZz4KPC9zdmc+' > </img>\n",
    "Created in <span style='font-weight:600;margin-left:4px;'>Deepnote</span></a>"
   ]
  }
 ],
 "metadata": {
  "deepnote": {
   "is_reactive": false
  },
  "deepnote_execution_queue": [],
  "deepnote_notebook_id": "f6276e08-015b-4caa-8ae9-3e8b315840c5"
 },
 "nbformat": 4,
 "nbformat_minor": 2
}
