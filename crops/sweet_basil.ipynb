{
 "cells": [
  {
   "cell_type": "code",
   "execution_count": null,
   "metadata": {
    "cell_id": "00000-0b0f7c6f-7d15-4128-8275-fdc9b2fab523",
    "deepnote_cell_type": "code",
    "deepnote_to_be_reexecuted": false,
    "execution_millis": 625,
    "source_hash": "46ee6631",
    "tags": []
   },
   "outputs": [],
   "source": [
    "import os\n",
    "import sys\n",
    "sys.path.insert(0, '/work/greenhouse-simulator-2/')\n",
    "\n",
    "import math\n",
    "import numpy as np\n",
    "import pandas as pd\n",
    "\n",
    "from crops.crop import Crop\n",
    "from helpers.types import *\n",
    "from helpers.data_prep import *\n",
    "from helpers.visualization import *\n",
    "from helpers.solar_conversions import *"
   ]
  },
  {
   "cell_type": "code",
   "execution_count": null,
   "metadata": {
    "cell_id": "00001-9c397245-912c-4658-9417-402a005579b8",
    "deepnote_cell_type": "code",
    "deepnote_to_be_reexecuted": false,
    "execution_millis": 6,
    "source_hash": "68ee8ca6",
    "tags": []
   },
   "outputs": [],
   "source": [
    "class SweetBasil(Crop):\n",
    "    \"\"\"\n",
    "    Source of magic numbers: https://docs.google.com/spreadsheets/d/15W7doRV3CC-cBJzIBFd_GSMAgq3gd0UYVjLGZALZG58/edit#gid=0\n",
    "    \"\"\"\n",
    "    def __init__(self, *args, **kwargs):\n",
    "        # Define crop specific constants\n",
    "        self.initial_weight: g = 2\n",
    "        self.initial_leaf_area: cm2 = 40\n",
    "        self.grow_period: d = 21\n",
    "        self.photoperiod: h = 16\n",
    "        self.target_DLI: mol_per_m2_day = 13\n",
    "\n",
    "        super(SweetBasil, self).__init__(\n",
    "            initial_weight=self.initial_weight, \n",
    "            initial_leaf_area=self.initial_leaf_area, \n",
    "            grow_period=self.grow_period, \n",
    "            target_DLI=self.target_DLI, \n",
    "            *args, \n",
    "            **kwargs\n",
    "        )\n",
    "\n",
    "\n",
    "    def _get_final_plant_props(self, dli: mol_per_m2_day) -> g:\n",
    "        # Diminishing returns above DLI 17\n",
    "        if dli > 17:\n",
    "            dli = 17\n",
    "\n",
    "        final_weight: g = 1.25 * dli + 2.35 # TODO: very rough linear approximation, come up with a better function\n",
    "        final_leaf_area: cm2 = 25.4 * dli + 184 # TODO: very rough linear approximation, come up with a better function\n",
    "        return final_weight, final_leaf_area\n",
    "\n",
    "\n",
    "    def _get_growth_coeff_at(self, hour: h):\n",
    "        return 0.0754 * math.exp(0.124 * (hour / 24))\n",
    "\n",
    "\n",
    "    def _get_specific_photosynthetic_rate(self, dli: mol_per_m2_day) -> umol_per_m2_s:\n",
    "        # Diminishing returns above DLI 17\n",
    "        if dli > 17:\n",
    "            dli = 17\n",
    "\n",
    "        return 0.706 * dli + 0.115\n",
    "\n",
    "\n",
    "    def _get_specific_transpiration_rate(self, dli: mol_per_m2_day) -> mmol_per_m2_s:\n",
    "        # Diminishing returns above DLI 17\n",
    "        if dli > 17:\n",
    "            dli = 17\n",
    "            \n",
    "        return 0.101 * dli + 0.472"
   ]
  },
  {
   "cell_type": "code",
   "execution_count": null,
   "metadata": {
    "cell_id": "00002-3a85dfb3-be2e-4ded-bc7b-03b7606a541a",
    "deepnote_cell_type": "code",
    "deepnote_to_be_reexecuted": false,
    "execution_millis": 3,
    "source_hash": "b05eb178",
    "tags": []
   },
   "outputs": [],
   "source": [
    "sweet_basil = SweetBasil(plants_per_barrel=200, barrel_count=4, time_period=3600)"
   ]
  },
  {
   "cell_type": "markdown",
   "metadata": {
    "cell_id": "00003-dc65cecf-8cc0-4dec-b4f0-b6600dc8b26f",
    "deepnote_cell_type": "text-cell-h3",
    "is_collapsed": false,
    "tags": []
   },
   "source": [
    "### Crop specific values over time"
   ]
  },
  {
   "cell_type": "code",
   "execution_count": null,
   "metadata": {
    "cell_id": "00003-19b233de-8aa0-4db3-a0ef-a2180c5ee7b9",
    "deepnote_cell_type": "code",
    "deepnote_to_be_reexecuted": false,
    "execution_millis": 3648,
    "source_hash": "a098a080",
    "tags": []
   },
   "outputs": [],
   "source": [
    "if not os.environ.get(\"USING_RUN\"):\n",
    "    resample_period = \"60min\"\n",
    "\n",
    "    sweet_basil = SweetBasil(plants_per_barrel=200, barrel_count=4, time_period=pd.to_timedelta(resample_period).total_seconds())\n",
    "    df = get_weather_data(date_from=\"2020-07-02\", date_to=\"2020-07-23\", resample_period=resample_period)\n",
    "\n",
    "    total_CO2_assimilated: mol = 0\n",
    "    total_H2O_evaporated: mol = 0\n",
    "    for i, row in df.iterrows():\n",
    "        # Calculate projected Daily Light Integral (DLI) from irradiance\n",
    "        irradiance: W_per_m2 = row[\"solarradiation\"]\n",
    "        PPFD: umol_per_m2_s = irradiance_to_PPFD(irradiance)\n",
    "        dli: mol_per_m2_day = PPFD_to_projected_DLI(PPFD, sweet_basil.photoperiod)\n",
    "\n",
    "        # Call `grow` function of tested crop\n",
    "        CO2_assimilation_rate, CO2_assimilated, H20_evaporation_rate, H2O_evaporated = sweet_basil.grow(dli)\n",
    "\n",
    "        # Register assimilation/evaporation rates\n",
    "        df.loc[i, \"CO2_assimilation_rate\"] = CO2_assimilation_rate\n",
    "        df.loc[i, \"H20_evaporation_rate\"] = H20_evaporation_rate\n",
    "\n",
    "        # Register assimilation/evaproation totals\n",
    "        total_CO2_assimilated += CO2_assimilated\n",
    "        total_H2O_evaporated += H2O_evaporated\n",
    "        df.loc[i, \"CO2_assimilated\"] = total_CO2_assimilated\n",
    "        df.loc[i, \"H2O_evaporated\"] = total_H2O_evaporated\n",
    "\n",
    "        # Register growth progress\n",
    "        df.loc[i, \"total_crop_weight\"] = sweet_basil.weights[-1].sum()\n",
    "\n",
    "        # Register weight and leaf_are of 5 evenly spaced out plant\n",
    "        for j in range(5):\n",
    "            df.loc[i, f\"crop_{j*40}_weight\"] = sweet_basil.weights[-1][j*40]\n",
    "\n",
    "        for j in range(5):\n",
    "            df.loc[i, f\"crop_{j*40}_leaf_area\"] = sweet_basil.leaf_areas[-1][j*40]\n",
    "\n"
   ]
  },
  {
   "cell_type": "code",
   "execution_count": null,
   "metadata": {
    "cell_id": "00005-7cac1cc4-cbc0-41a0-980a-f7a17e7da252",
    "deepnote_cell_type": "code",
    "deepnote_output_heights": [
     313
    ],
    "deepnote_to_be_reexecuted": false,
    "execution_millis": 123,
    "source_hash": "874bf454",
    "tags": []
   },
   "outputs": [],
   "source": [
    "plots = None\n",
    "if not os.environ.get(\"USING_RUN\"):\n",
    "    multiline_cols = [f\"crop_{j*40}_weight\" for j in range(5)]\n",
    "    plots = plot_multiline(df, multiline_cols, width=900, height=235, title=\"Weights of 5 plants over time\", y_label=\"g / plant\", legend_label=\"Weights\", date_format=\"\")\n",
    "plots"
   ]
  },
  {
   "cell_type": "code",
   "execution_count": null,
   "metadata": {
    "cell_id": "00006-a93226a7-bff9-4e23-be6f-96c8b2b0dc68",
    "deepnote_cell_type": "code",
    "deepnote_output_heights": [
     313
    ],
    "deepnote_to_be_reexecuted": false,
    "execution_millis": 90,
    "source_hash": "8dd95cf1",
    "tags": []
   },
   "outputs": [],
   "source": [
    "plots = None\n",
    "if not os.environ.get(\"USING_RUN\"):\n",
    "    multiline_cols = [f\"crop_{j*40}_leaf_area\" for j in range(5)]\n",
    "    plots = plot_multiline(df, multiline_cols, width=900, height=235, title=\"Leaf areas of 5 plants over time\", y_label=\"cm2 / plant\", legend_label=\"Leaf areas\", date_format=\"\")\n",
    "plots"
   ]
  },
  {
   "cell_type": "code",
   "execution_count": null,
   "metadata": {
    "cell_id": "00007-86368e2f-aa00-4509-a9df-95c71a1dc824",
    "deepnote_cell_type": "code",
    "deepnote_to_be_reexecuted": false,
    "execution_millis": 1725957356,
    "source_hash": "d715123d",
    "tags": []
   },
   "outputs": [],
   "source": [
    "if not os.environ.get(\"USING_RUN\"):\n",
    "    print(f\"Harvested weight: {round(sweet_basil.harvested_weight) / 1000} kg\")"
   ]
  },
  {
   "cell_type": "code",
   "execution_count": null,
   "metadata": {
    "cell_id": "00008-88f45cc7-66d2-4386-957d-42dbcd8f3c9e",
    "deepnote_cell_type": "code",
    "deepnote_output_heights": [
     313
    ],
    "deepnote_to_be_reexecuted": false,
    "execution_millis": 85,
    "source_hash": "372c34ce",
    "tags": []
   },
   "outputs": [],
   "source": [
    "plots = None\n",
    "if not os.environ.get(\"USING_RUN\"):\n",
    "    plots = plot_timeline(df, \"total_crop_weight\", width=900, height=235, y_label=\"g crop\")\n",
    "plots"
   ]
  },
  {
   "cell_type": "code",
   "execution_count": null,
   "metadata": {
    "cell_id": "00009-6e12e2bd-a452-4d20-9629-d2da674275f4",
    "deepnote_cell_type": "code",
    "deepnote_output_heights": [
     315
    ],
    "deepnote_to_be_reexecuted": false,
    "execution_millis": 166,
    "source_hash": "9c9d8e8c",
    "tags": []
   },
   "outputs": [],
   "source": [
    "plots = None\n",
    "if not os.environ.get(\"USING_RUN\"):\n",
    "    plots = plot_timeline(df, \"CO2_assimilated\", width=450, height=235, y_label=\"mol CO2\") | \\\n",
    "    plot_timeline(df, \"H2O_evaporated\", width=450, height=235, y_label=\"mol H2O\")\n",
    "plots"
   ]
  },
  {
   "cell_type": "code",
   "execution_count": null,
   "metadata": {
    "cell_id": "00010-a6a08c67-d3a2-4bda-b02d-4944e66f634e",
    "deepnote_cell_type": "code",
    "deepnote_output_heights": [
     315
    ],
    "deepnote_to_be_reexecuted": false,
    "execution_millis": 180,
    "source_hash": "e75e6048",
    "tags": []
   },
   "outputs": [],
   "source": [
    "plots = None\n",
    "if not os.environ.get(\"USING_RUN\"):\n",
    "    plots = plot_timeline(df, \"CO2_assimilation_rate\", width=450, height=235, y_label=\"mol CO2 / s\") | \\\n",
    "    plot_timeline(df, \"H20_evaporation_rate\", width=450, height=235, y_label=\"mol H2O / s\")\n",
    "plots"
   ]
  },
  {
   "cell_type": "markdown",
   "metadata": {
    "cell_id": "00011-fbfe8541-c86b-4473-98e2-d214057b737a",
    "deepnote_cell_type": "text-cell-h3",
    "is_collapsed": false,
    "tags": []
   },
   "source": [
    "### Values at harvest vs. DLI"
   ]
  },
  {
   "cell_type": "code",
   "execution_count": null,
   "metadata": {
    "cell_id": "00001-9b608627-2496-46d0-9b62-0dedae30b433",
    "deepnote_cell_type": "code",
    "deepnote_output_heights": [
     380
    ],
    "deepnote_to_be_reexecuted": false,
    "execution_millis": 53,
    "source_hash": "43770fc9",
    "tags": []
   },
   "outputs": [],
   "source": [
    "plots = None\n",
    "if not os.environ.get(\"USING_RUN\"):\n",
    "    dli_vs_props = []\n",
    "    for dli in range(25):\n",
    "        weight, leaf_area = sweet_basil._get_final_plant_props(dli)\n",
    "        specific_photosynthetic_rate: umol_per_m2_s = sweet_basil._get_specific_photosynthetic_rate(dli)\n",
    "        specific_transpiration_rate: mmol_per_m2_s = sweet_basil._get_specific_transpiration_rate(dli)\n",
    "\n",
    "\n",
    "        dli_vs_props.append({\n",
    "            \"dli\": dli,\n",
    "            \"weight\": weight,\n",
    "            \"leaf_area\": leaf_area,\n",
    "            \"specific_photosynthetic_rate\": specific_photosynthetic_rate,\n",
    "            \"specific_transpiration_rate\": specific_transpiration_rate\n",
    "        })\n",
    "\n",
    "    df = pd.DataFrame(dli_vs_props)\n",
    "\n",
    "    plots = plot_x_y_multiline(df, \"dli\", [\"weight\"], x_label=\"DLI\", y_label=\"weight (g)\", legend_label=\"\", title=\"DLI vs. final weight\") | \\\n",
    "    plot_x_y_multiline(df, \"dli\", [\"leaf_area\"], x_label=\"DLI\", y_label=\"leaf area (cm2)\", legend_label=\"\", title=\"DLI vs. final leaf area\")\n",
    "plots\n"
   ]
  },
  {
   "cell_type": "code",
   "execution_count": null,
   "metadata": {
    "cell_id": "00002-30b2ee4e-deef-4351-aed6-52c3beb407ac",
    "deepnote_cell_type": "code",
    "deepnote_output_heights": [
     380
    ],
    "deepnote_to_be_reexecuted": false,
    "execution_millis": 5,
    "source_hash": "cd6c47f5",
    "tags": []
   },
   "outputs": [],
   "source": [
    "plots = None\n",
    "if not os.environ.get(\"USING_RUN\"):\n",
    "    plots = plot_x_y_multiline(df, \"dli\", [\"specific_photosynthetic_rate\"], x_label=\"DLI\", y_label=\"photosynthetic rate (umol / m2 s)\", legend_label=\"\", title=\"DLI vs. photosynthetic rate\") | \\\n",
    "    plot_x_y_multiline(df, \"dli\", [\"specific_transpiration_rate\"], x_label=\"DLI\", y_label=\"transpiration rate (mmol / m2 s)\", legend_label=\"\", title=\"DLI vs. transpiration rate\")\n",
    "plots"
   ]
  },
  {
   "cell_type": "code",
   "execution_count": null,
   "metadata": {
    "cell_id": "00004-bb272cae-2595-4d48-8f20-62e2f11804bd",
    "deepnote_cell_type": "code",
    "deepnote_to_be_reexecuted": false,
    "execution_millis": 1,
    "source_hash": "b623e53d",
    "tags": []
   },
   "outputs": [],
   "source": []
  },
  {
   "cell_type": "markdown",
   "metadata": {
    "created_in_deepnote_cell": true,
    "deepnote_cell_type": "markdown",
    "tags": []
   },
   "source": [
    "<a style='text-decoration:none;line-height:16px;display:flex;color:#5B5B62;padding:10px;justify-content:end;' href='https://deepnote.com?utm_source=created-in-deepnote-cell&projectId=2f5dc715-67f7-4c8c-98f7-a87b736d3338' target=\"_blank\">\n",
    "<img alt='Created in deepnote.com' style='display:inline;max-height:16px;margin:0px;margin-right:7.5px;' src='data:image/svg+xml;base64,PD94bWwgdmVyc2lvbj0iMS4wIiBlbmNvZGluZz0iVVRGLTgiPz4KPHN2ZyB3aWR0aD0iODBweCIgaGVpZ2h0PSI4MHB4IiB2aWV3Qm94PSIwIDAgODAgODAiIHZlcnNpb249IjEuMSIgeG1sbnM9Imh0dHA6Ly93d3cudzMub3JnLzIwMDAvc3ZnIiB4bWxuczp4bGluaz0iaHR0cDovL3d3dy53My5vcmcvMTk5OS94bGluayI+CiAgICA8IS0tIEdlbmVyYXRvcjogU2tldGNoIDU0LjEgKDc2NDkwKSAtIGh0dHBzOi8vc2tldGNoYXBwLmNvbSAtLT4KICAgIDx0aXRsZT5Hcm91cCAzPC90aXRsZT4KICAgIDxkZXNjPkNyZWF0ZWQgd2l0aCBTa2V0Y2guPC9kZXNjPgogICAgPGcgaWQ9IkxhbmRpbmciIHN0cm9rZT0ibm9uZSIgc3Ryb2tlLXdpZHRoPSIxIiBmaWxsPSJub25lIiBmaWxsLXJ1bGU9ImV2ZW5vZGQiPgogICAgICAgIDxnIGlkPSJBcnRib2FyZCIgdHJhbnNmb3JtPSJ0cmFuc2xhdGUoLTEyMzUuMDAwMDAwLCAtNzkuMDAwMDAwKSI+CiAgICAgICAgICAgIDxnIGlkPSJHcm91cC0zIiB0cmFuc2Zvcm09InRyYW5zbGF0ZSgxMjM1LjAwMDAwMCwgNzkuMDAwMDAwKSI+CiAgICAgICAgICAgICAgICA8cG9seWdvbiBpZD0iUGF0aC0yMCIgZmlsbD0iIzAyNjVCNCIgcG9pbnRzPSIyLjM3NjIzNzYyIDgwIDM4LjA0NzY2NjcgODAgNTcuODIxNzgyMiA3My44MDU3NTkyIDU3LjgyMTc4MjIgMzIuNzU5MjczOSAzOS4xNDAyMjc4IDMxLjY4MzE2ODMiPjwvcG9seWdvbj4KICAgICAgICAgICAgICAgIDxwYXRoIGQ9Ik0zNS4wMDc3MTgsODAgQzQyLjkwNjIwMDcsNzYuNDU0OTM1OCA0Ny41NjQ5MTY3LDcxLjU0MjI2NzEgNDguOTgzODY2LDY1LjI2MTk5MzkgQzUxLjExMjI4OTksNTUuODQxNTg0MiA0MS42NzcxNzk1LDQ5LjIxMjIyODQgMjUuNjIzOTg0Niw0OS4yMTIyMjg0IEMyNS40ODQ5Mjg5LDQ5LjEyNjg0NDggMjkuODI2MTI5Niw0My4yODM4MjQ4IDM4LjY0NzU4NjksMzEuNjgzMTY4MyBMNzIuODcxMjg3MSwzMi41NTQ0MjUgTDY1LjI4MDk3Myw2Ny42NzYzNDIxIEw1MS4xMTIyODk5LDc3LjM3NjE0NCBMMzUuMDA3NzE4LDgwIFoiIGlkPSJQYXRoLTIyIiBmaWxsPSIjMDAyODY4Ij48L3BhdGg+CiAgICAgICAgICAgICAgICA8cGF0aCBkPSJNMCwzNy43MzA0NDA1IEwyNy4xMTQ1MzcsMC4yNTcxMTE0MzYgQzYyLjM3MTUxMjMsLTEuOTkwNzE3MDEgODAsMTAuNTAwMzkyNyA4MCwzNy43MzA0NDA1IEM4MCw2NC45NjA0ODgyIDY0Ljc3NjUwMzgsNzkuMDUwMzQxNCAzNC4zMjk1MTEzLDgwIEM0Ny4wNTUzNDg5LDc3LjU2NzA4MDggNTMuNDE4MjY3Nyw3MC4zMTM2MTAzIDUzLjQxODI2NzcsNTguMjM5NTg4NSBDNTMuNDE4MjY3Nyw0MC4xMjg1NTU3IDM2LjMwMzk1NDQsMzcuNzMwNDQwNSAyNS4yMjc0MTcsMzcuNzMwNDQwNSBDMTcuODQzMDU4NiwzNy43MzA0NDA1IDkuNDMzOTE5NjYsMzcuNzMwNDQwNSAwLDM3LjczMDQ0MDUgWiIgaWQ9IlBhdGgtMTkiIGZpbGw9IiMzNzkzRUYiPjwvcGF0aD4KICAgICAgICAgICAgPC9nPgogICAgICAgIDwvZz4KICAgIDwvZz4KPC9zdmc+' > </img>\n",
    "Created in <span style='font-weight:600;margin-left:4px;'>Deepnote</span></a>"
   ]
  }
 ],
 "metadata": {
  "deepnote": {
   "is_reactive": false
  },
  "deepnote_execution_queue": [],
  "deepnote_notebook_id": "46dbe01f-a1d8-47d0-ac73-01de8fb6dbc0"
 },
 "nbformat": 4,
 "nbformat_minor": 2
}
