{
 "cells": [
  {
   "cell_type": "code",
   "execution_count": null,
   "metadata": {
    "cell_id": "00000-a2a07df6-803f-4bfb-ab13-e3b148f20131",
    "deepnote_cell_height": 249.125,
    "deepnote_cell_type": "code",
    "deepnote_to_be_reexecuted": false,
    "execution_millis": 3188,
    "source_hash": "72423b99",
    "tags": []
   },
   "outputs": [],
   "source": [
    "%env USING_RUN True\n",
    "\n",
    "%run ./greenhouse/greenhouse.ipynb import Greenhouse"
   ]
  },
  {
   "cell_type": "code",
   "execution_count": null,
   "metadata": {
    "cell_id": "fd9769ef-d176-40ef-9187-099f069339cd",
    "deepnote_cell_height": 351,
    "deepnote_cell_type": "code",
    "deepnote_to_be_reexecuted": false,
    "execution_millis": 18,
    "source_hash": "fcaaf5cc",
    "tags": []
   },
   "outputs": [],
   "source": [
    "def run_simulation(greenhouse, date_range, resample_period):\n",
    "    time_period = pd.to_timedelta(resample_period).total_seconds()\n",
    "\n",
    "    df = get_weather_data(date_from=date_range[0], date_to=date_range[1], resample_period=resample_period)\n",
    "\n",
    "    for timestamp, row in df.iterrows():\n",
    "        try:\n",
    "            results = greenhouse.run(timestamp, row)\n",
    "        except Exception as e:\n",
    "            traceback.print_exc()\n",
    "            break\n",
    "\n",
    "        for col in results.keys():\n",
    "            df.loc[timestamp, col] = results[col]\n",
    "\n",
    "    return df"
   ]
  },
  {
   "cell_type": "code",
   "execution_count": null,
   "metadata": {
    "cell_id": "174ece5986f64ee79f93a113c0604b16",
    "deepnote_cell_height": 135,
    "deepnote_cell_type": "code",
    "deepnote_to_be_reexecuted": false,
    "execution_millis": 2,
    "source_hash": "6daf35ef",
    "tags": []
   },
   "outputs": [],
   "source": [
    "airflow_mode_options = [\"humidity_control\", \"light_control\", \"constant\"]\n",
    "temp_mode_options = [\"constant\", \"dynamic\"]\n",
    "use_sunlight_options = [True, False]\n",
    "roof_panel_options = [\"polycarbonate\", \"insolight\", \"solarbrite\"]"
   ]
  },
  {
   "cell_type": "code",
   "execution_count": null,
   "metadata": {
    "cell_id": "002fe46b36444733b6772ffd83f5b245",
    "deepnote_app_coordinates": {
     "h": 4,
     "w": 4,
     "x": 0,
     "y": 0
    },
    "deepnote_cell_type": "input-select",
    "deepnote_to_be_reexecuted": false,
    "deepnote_variable_custom_options": [],
    "deepnote_variable_name": "airflow_mode",
    "deepnote_variable_options": [
     "humidity_control",
     "light_control",
     "constant"
    ],
    "deepnote_variable_select_type": "from-variable",
    "deepnote_variable_selected_variable": "airflow_mode_options",
    "deepnote_variable_value": "constant",
    "execution_millis": 2320882,
    "source_hash": "d729ce24"
   },
   "outputs": [],
   "source": [
    "airflow_mode = 'constant'"
   ]
  },
  {
   "cell_type": "code",
   "execution_count": null,
   "metadata": {
    "cell_id": "9b6471ffb65c4a21b92fcb3aa3584192",
    "deepnote_app_coordinates": {
     "h": 4,
     "w": 4,
     "x": 4,
     "y": 0
    },
    "deepnote_cell_type": "input-select",
    "deepnote_to_be_reexecuted": false,
    "deepnote_variable_custom_options": [
     "Option 1",
     "Option 2"
    ],
    "deepnote_variable_name": "temp_mode",
    "deepnote_variable_options": [
     "constant",
     "dynamic"
    ],
    "deepnote_variable_select_type": "from-variable",
    "deepnote_variable_selected_variable": "temp_mode_options",
    "deepnote_variable_value": "constant",
    "execution_millis": 2320857,
    "source_hash": "ab506e1"
   },
   "outputs": [],
   "source": [
    "temp_mode = 'constant'"
   ]
  },
  {
   "cell_type": "code",
   "execution_count": null,
   "metadata": {
    "cell_id": "1f87648c6cb841a482e17d74761a8acb",
    "deepnote_app_coordinates": {
     "h": 4,
     "w": 4,
     "x": 8,
     "y": 0
    },
    "deepnote_cell_type": "input-select",
    "deepnote_to_be_reexecuted": false,
    "deepnote_variable_custom_options": [
     "Option 1",
     "Option 2"
    ],
    "deepnote_variable_name": "use_sunlight",
    "deepnote_variable_options": [
     "True",
     "False"
    ],
    "deepnote_variable_select_type": "from-variable",
    "deepnote_variable_selected_variable": "use_sunlight_options",
    "deepnote_variable_value": "False",
    "execution_millis": 2320811,
    "source_hash": "68a8abda"
   },
   "outputs": [],
   "source": [
    "use_sunlight = 'False'"
   ]
  },
  {
   "cell_type": "code",
   "execution_count": null,
   "metadata": {
    "cell_id": "f399b7956b1e4351a94f40aee5da2901",
    "deepnote_app_coordinates": {
     "h": 4,
     "w": 4,
     "x": 12,
     "y": 0
    },
    "deepnote_cell_type": "input-select",
    "deepnote_to_be_reexecuted": false,
    "deepnote_variable_custom_options": [
     "Option 1",
     "Option 2"
    ],
    "deepnote_variable_name": "roof_panel_type",
    "deepnote_variable_options": [
     "polycarbonate",
     "insolight",
     "solarbrite"
    ],
    "deepnote_variable_select_type": "from-variable",
    "deepnote_variable_selected_variable": "roof_panel_options",
    "deepnote_variable_value": "polycarbonate",
    "execution_millis": 2320812,
    "source_hash": "1051ca21"
   },
   "outputs": [],
   "source": [
    "roof_panel_type = 'polycarbonate'"
   ]
  },
  {
   "cell_type": "code",
   "execution_count": null,
   "metadata": {
    "cell_id": "0db587758b504530b707437494ce0954",
    "deepnote_app_coordinates": {
     "h": 4,
     "w": 8,
     "x": 0,
     "y": 8
    },
    "deepnote_cell_type": "input-slider",
    "deepnote_slider_max_value": 2000,
    "deepnote_slider_min_value": 0,
    "deepnote_slider_step": 10,
    "deepnote_to_be_reexecuted": false,
    "deepnote_variable_name": "airflow_l_per_s",
    "deepnote_variable_value": "100",
    "execution_millis": 2320812,
    "source_hash": "a948ad5d"
   },
   "outputs": [],
   "source": [
    "airflow_l_per_s = 100"
   ]
  },
  {
   "cell_type": "code",
   "execution_count": null,
   "metadata": {
    "cell_id": "0ce22228b98142b6bb4ef8f5bcbd9ead",
    "deepnote_app_coordinates": {
     "h": 4,
     "w": 8,
     "x": 0,
     "y": 4
    },
    "deepnote_cell_type": "input-slider",
    "deepnote_slider_max_value": 25,
    "deepnote_slider_min_value": 10,
    "deepnote_slider_step": 1,
    "deepnote_to_be_reexecuted": false,
    "deepnote_variable_name": "min_temp",
    "deepnote_variable_value": "16",
    "execution_millis": 2320811,
    "source_hash": "d750802d"
   },
   "outputs": [],
   "source": [
    "min_temp = 16"
   ]
  },
  {
   "cell_type": "code",
   "execution_count": null,
   "metadata": {
    "cell_id": "d2b34fa42e0d4168b608b8a49df7c3bc",
    "deepnote_app_coordinates": {
     "h": 4,
     "w": 8,
     "x": 8,
     "y": 4
    },
    "deepnote_cell_type": "input-slider",
    "deepnote_slider_max_value": 30,
    "deepnote_slider_min_value": 15,
    "deepnote_slider_step": 1,
    "deepnote_to_be_reexecuted": false,
    "deepnote_variable_name": "max_temp",
    "deepnote_variable_value": "26",
    "execution_millis": 2320812,
    "source_hash": "85bbc7d4"
   },
   "outputs": [],
   "source": [
    "max_temp = 26"
   ]
  },
  {
   "cell_type": "code",
   "execution_count": null,
   "metadata": {
    "cell_id": "f79a0dd5c2a74fa79bf96f7a56bfa716",
    "deepnote_app_coordinates": {
     "h": 4,
     "w": 8,
     "x": 8,
     "y": 8
    },
    "deepnote_cell_type": "input-slider",
    "deepnote_slider_max_value": 100,
    "deepnote_slider_min_value": 30,
    "deepnote_slider_step": 1,
    "deepnote_to_be_reexecuted": false,
    "deepnote_variable_name": "max_humidity",
    "deepnote_variable_value": "70",
    "execution_millis": 2320769,
    "source_hash": "b51c4d3f"
   },
   "outputs": [],
   "source": [
    "max_humidity = 70"
   ]
  },
  {
   "cell_type": "code",
   "execution_count": null,
   "metadata": {
    "cell_id": "1f9cbe76-93df-4b7c-b075-82f4e5e50437",
    "deepnote_cell_height": 1126.75,
    "deepnote_cell_type": "code",
    "deepnote_to_be_reexecuted": false,
    "execution_millis": 6950,
    "source_hash": "78ef30a4",
    "tags": []
   },
   "outputs": [],
   "source": [
    "resample_period=\"60min\"\n",
    "\n",
    "airflow = airflow_mode\n",
    "\n",
    "if airflow_mode == \"constant\":\n",
    "    airflow = f\"CONST:{airflow_l_per_s / 1000}\"\n",
    "\n",
    "configs = {\n",
    "    \"custom\": Greenhouse(\n",
    "        resample_period=resample_period, \n",
    "        airflow_mode=airflow,\n",
    "        temp_mode=temp_mode,\n",
    "        min_temp=min_temp,\n",
    "        max_temp=max_temp,\n",
    "        max_humidity=max_humidity,\n",
    "        block_sunlight=False if use_sunlight == \"True\" else False,\n",
    "        roof_panel_type=roof_panel_type\n",
    "    )\n",
    "}\n",
    "\n",
    "dates = {\n",
    "    \"winter\": [\"2020-01-01\", \"2020-01-02\"],\n",
    "    \"spring\": [\"2020-04-03\", \"2020-04-04\"],\n",
    "    \"summer\": [\"2020-07-10\", \"2020-07-11\"],\n",
    "    \"fall\": [\"2020-10-01\", \"2020-10-02\"],\n",
    "}\n",
    "\n",
    "dfs = {}\n",
    "results = []\n",
    "for config_type in configs:\n",
    "    dfs[config_type] = {}\n",
    "    greenhouse = configs[config_type]\n",
    "\n",
    "    results_of_date = {}\n",
    "    for date_type in dates:\n",
    "        date_range = dates[date_type]\n",
    "\n",
    "        df = run_simulation(greenhouse, date_range, resample_period)\n",
    "\n",
    "        total_cost, total_yield, total_harvested_plant_count = get_total_cost(df, greenhouse)\n",
    "\n",
    "        dfs[config_type][date_type] = df\n",
    "        results_of_date[f\"cost_EUR_{date_type}\"] = round(total_cost, 2)\n",
    "        results_of_date[f\"yield_kg_{date_type}\"] = round(total_yield, 3)\n",
    "        results_of_date[f\"total_harvested_plant_count_{date_type}\"] = total_harvested_plant_count\n",
    "\n",
    "        print(f\"Simulation done for {config_type} - {date_type}\")\n",
    "\n",
    "    results.append({\n",
    "        \"config_type\": config_type,\n",
    "        **results_of_date\n",
    "    })\n",
    "\n",
    "results_df = pd.DataFrame(results)"
   ]
  },
  {
   "cell_type": "code",
   "execution_count": null,
   "metadata": {
    "cell_id": "c6a54203-a101-4cd3-b030-c4f4f2349f85",
    "deepnote_app_coordinates": {
     "h": 5,
     "w": 24,
     "x": 0,
     "y": 12
    },
    "deepnote_app_is_code_hidden": true,
    "deepnote_cell_height": 319,
    "deepnote_cell_type": "code",
    "deepnote_to_be_reexecuted": false,
    "execution_millis": 88,
    "source_hash": "11a20845",
    "tags": []
   },
   "outputs": [],
   "source": [
    "results_df[\"total_cost\"] = round(results_df[[f\"cost_EUR_{date_type}\" for date_type in dates]].sum(axis=1), 2)\n",
    "results_df[\"total_yield\"] = round(results_df[[f\"yield_kg_{date_type}\" for date_type in dates]].sum(axis=1), 3)\n",
    "results_df[\"total_plant_count\"] = results_df[[f\"total_harvested_plant_count_{date_type}\" for date_type in dates]].sum(axis=1)\n",
    "results_df[\"cost_per_kg\"] = round(results_df[\"total_cost\"] / results_df[\"total_yield\"], 2)\n",
    "results_df[\"cost_per_plant\"] = round(results_df[\"total_cost\"] / results_df[\"total_plant_count\"], 4)\n",
    "results_df[[\"config_type\", \"total_cost\", \"total_yield\", \"cost_per_kg\", \"total_plant_count\", \"cost_per_plant\"]]"
   ]
  },
  {
   "cell_type": "code",
   "execution_count": null,
   "metadata": {
    "cell_id": "05d8ec2795d3422a835740f23630e3e8",
    "deepnote_cell_height": 282,
    "deepnote_cell_type": "code",
    "tags": []
   },
   "outputs": [],
   "source": [
    "plot_multiline_dual_y(\n",
    "    dfs[\"custom\"][\"spring\"],\n",
    "    [\"temp\", \"ambient_temp\"],\n",
    "    [\"heating_rate_J_per_s\"],\n",
    "    width=width, \n",
    "    height=height, \n",
    "    title=f\"Temperature: {title}\", \n",
    "    y_labels=[\"C\", \"J / s\"], \n",
    "    legend_label=\" \" if show_label else None,\n",
    "    date_format=\"\",\n",
    "    colors=[\"blue\", \"green\", \"orange\"],\n",
    "    left_axis_target_range=[17,27]\n",
    ")"
   ]
  },
  {
   "cell_type": "code",
   "execution_count": null,
   "metadata": {
    "cell_id": "5acebcab-0d70-4104-8c6c-231c26bca529",
    "deepnote_cell_height": 666,
    "deepnote_cell_type": "code",
    "deepnote_output_heights": [
     569
    ],
    "deepnote_to_be_reexecuted": false,
    "execution_millis": 108,
    "source_hash": "3035a89",
    "tags": []
   },
   "outputs": [],
   "source": [
    "plot_in_grid(dfs, \"custom\", plot_energy)"
   ]
  },
  {
   "cell_type": "code",
   "execution_count": null,
   "metadata": {
    "cell_id": "27aaec8f-7cdd-4db3-a944-142db3e45b59",
    "deepnote_app_is_code_hidden": true,
    "deepnote_cell_height": 676,
    "deepnote_cell_type": "code",
    "deepnote_output_heights": [
     579
    ],
    "deepnote_to_be_reexecuted": false,
    "execution_millis": 721,
    "source_hash": "520bbf05",
    "tags": []
   },
   "outputs": [],
   "source": [
    "plot_in_grid(dfs, \"custom\", plot_temperature)"
   ]
  },
  {
   "cell_type": "code",
   "execution_count": null,
   "metadata": {
    "cell_id": "353c8b3b-7813-4128-b4c4-bfe80a856416",
    "deepnote_app_coordinates": {
     "h": 25,
     "w": 24,
     "x": 0,
     "y": 66
    },
    "deepnote_app_is_code_hidden": true,
    "deepnote_cell_height": 676,
    "deepnote_cell_type": "code",
    "deepnote_output_heights": [
     579
    ],
    "deepnote_to_be_reexecuted": false,
    "execution_millis": 447,
    "source_hash": "6adde74c",
    "tags": []
   },
   "outputs": [],
   "source": [
    "plot_in_grid(dfs, \"custom\", plot_humidity)"
   ]
  },
  {
   "cell_type": "markdown",
   "metadata": {
    "created_in_deepnote_cell": true,
    "deepnote_cell_type": "markdown",
    "tags": []
   },
   "source": [
    "<a style='text-decoration:none;line-height:16px;display:flex;color:#5B5B62;padding:10px;justify-content:end;' href='https://deepnote.com?utm_source=created-in-deepnote-cell&projectId=2f5dc715-67f7-4c8c-98f7-a87b736d3338' target=\"_blank\">\n",
    "<img alt='Created in deepnote.com' style='display:inline;max-height:16px;margin:0px;margin-right:7.5px;' src='data:image/svg+xml;base64,PD94bWwgdmVyc2lvbj0iMS4wIiBlbmNvZGluZz0iVVRGLTgiPz4KPHN2ZyB3aWR0aD0iODBweCIgaGVpZ2h0PSI4MHB4IiB2aWV3Qm94PSIwIDAgODAgODAiIHZlcnNpb249IjEuMSIgeG1sbnM9Imh0dHA6Ly93d3cudzMub3JnLzIwMDAvc3ZnIiB4bWxuczp4bGluaz0iaHR0cDovL3d3dy53My5vcmcvMTk5OS94bGluayI+CiAgICA8IS0tIEdlbmVyYXRvcjogU2tldGNoIDU0LjEgKDc2NDkwKSAtIGh0dHBzOi8vc2tldGNoYXBwLmNvbSAtLT4KICAgIDx0aXRsZT5Hcm91cCAzPC90aXRsZT4KICAgIDxkZXNjPkNyZWF0ZWQgd2l0aCBTa2V0Y2guPC9kZXNjPgogICAgPGcgaWQ9IkxhbmRpbmciIHN0cm9rZT0ibm9uZSIgc3Ryb2tlLXdpZHRoPSIxIiBmaWxsPSJub25lIiBmaWxsLXJ1bGU9ImV2ZW5vZGQiPgogICAgICAgIDxnIGlkPSJBcnRib2FyZCIgdHJhbnNmb3JtPSJ0cmFuc2xhdGUoLTEyMzUuMDAwMDAwLCAtNzkuMDAwMDAwKSI+CiAgICAgICAgICAgIDxnIGlkPSJHcm91cC0zIiB0cmFuc2Zvcm09InRyYW5zbGF0ZSgxMjM1LjAwMDAwMCwgNzkuMDAwMDAwKSI+CiAgICAgICAgICAgICAgICA8cG9seWdvbiBpZD0iUGF0aC0yMCIgZmlsbD0iIzAyNjVCNCIgcG9pbnRzPSIyLjM3NjIzNzYyIDgwIDM4LjA0NzY2NjcgODAgNTcuODIxNzgyMiA3My44MDU3NTkyIDU3LjgyMTc4MjIgMzIuNzU5MjczOSAzOS4xNDAyMjc4IDMxLjY4MzE2ODMiPjwvcG9seWdvbj4KICAgICAgICAgICAgICAgIDxwYXRoIGQ9Ik0zNS4wMDc3MTgsODAgQzQyLjkwNjIwMDcsNzYuNDU0OTM1OCA0Ny41NjQ5MTY3LDcxLjU0MjI2NzEgNDguOTgzODY2LDY1LjI2MTk5MzkgQzUxLjExMjI4OTksNTUuODQxNTg0MiA0MS42NzcxNzk1LDQ5LjIxMjIyODQgMjUuNjIzOTg0Niw0OS4yMTIyMjg0IEMyNS40ODQ5Mjg5LDQ5LjEyNjg0NDggMjkuODI2MTI5Niw0My4yODM4MjQ4IDM4LjY0NzU4NjksMzEuNjgzMTY4MyBMNzIuODcxMjg3MSwzMi41NTQ0MjUgTDY1LjI4MDk3Myw2Ny42NzYzNDIxIEw1MS4xMTIyODk5LDc3LjM3NjE0NCBMMzUuMDA3NzE4LDgwIFoiIGlkPSJQYXRoLTIyIiBmaWxsPSIjMDAyODY4Ij48L3BhdGg+CiAgICAgICAgICAgICAgICA8cGF0aCBkPSJNMCwzNy43MzA0NDA1IEwyNy4xMTQ1MzcsMC4yNTcxMTE0MzYgQzYyLjM3MTUxMjMsLTEuOTkwNzE3MDEgODAsMTAuNTAwMzkyNyA4MCwzNy43MzA0NDA1IEM4MCw2NC45NjA0ODgyIDY0Ljc3NjUwMzgsNzkuMDUwMzQxNCAzNC4zMjk1MTEzLDgwIEM0Ny4wNTUzNDg5LDc3LjU2NzA4MDggNTMuNDE4MjY3Nyw3MC4zMTM2MTAzIDUzLjQxODI2NzcsNTguMjM5NTg4NSBDNTMuNDE4MjY3Nyw0MC4xMjg1NTU3IDM2LjMwMzk1NDQsMzcuNzMwNDQwNSAyNS4yMjc0MTcsMzcuNzMwNDQwNSBDMTcuODQzMDU4NiwzNy43MzA0NDA1IDkuNDMzOTE5NjYsMzcuNzMwNDQwNSAwLDM3LjczMDQ0MDUgWiIgaWQ9IlBhdGgtMTkiIGZpbGw9IiMzNzkzRUYiPjwvcGF0aD4KICAgICAgICAgICAgPC9nPgogICAgICAgIDwvZz4KICAgIDwvZz4KPC9zdmc+' > </img>\n",
    "Created in <span style='font-weight:600;margin-left:4px;'>Deepnote</span></a>"
   ]
  }
 ],
 "metadata": {
  "deepnote": {
   "is_reactive": false
  },
  "deepnote_app_layout": "dashboard",
  "deepnote_execution_queue": [],
  "deepnote_notebook_id": "b721798c-1b5f-4a46-a6ef-19ada0062391"
 },
 "nbformat": 4,
 "nbformat_minor": 2
}
