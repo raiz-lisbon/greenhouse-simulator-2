{
 "cells": [
  {
   "cell_type": "code",
   "execution_count": null,
   "metadata": {
    "cell_id": "00000-a2a07df6-803f-4bfb-ab13-e3b148f20131",
    "deepnote_cell_type": "code",
    "deepnote_output_heights": [
     null,
     194,
     611,
     611,
     611,
     611
    ],
    "deepnote_to_be_reexecuted": false,
    "execution_millis": 1085,
    "source_hash": "72423b99",
    "tags": []
   },
   "outputs": [],
   "source": [
    "%env USING_RUN True\n",
    "\n",
    "%run ./greenhouse/greenhouse.ipynb import Greenhouse"
   ]
  },
  {
   "cell_type": "code",
   "execution_count": null,
   "metadata": {
    "cell_id": "fd9769ef-d176-40ef-9187-099f069339cd",
    "deepnote_cell_type": "code",
    "deepnote_to_be_reexecuted": false,
    "execution_millis": 3,
    "source_hash": "fcaaf5cc",
    "tags": []
   },
   "outputs": [],
   "source": [
    "def run_simulation(greenhouse, date_range, resample_period):\n",
    "    time_period = pd.to_timedelta(resample_period).total_seconds()\n",
    "\n",
    "    df = get_weather_data(date_from=date_range[0], date_to=date_range[1], resample_period=resample_period)\n",
    "\n",
    "    for timestamp, row in df.iterrows():\n",
    "        try:\n",
    "            results = greenhouse.run(timestamp, row)\n",
    "        except Exception as e:\n",
    "            traceback.print_exc()\n",
    "            break\n",
    "\n",
    "        for col in results.keys():\n",
    "            df.loc[timestamp, col] = results[col]\n",
    "\n",
    "    return df"
   ]
  },
  {
   "cell_type": "code",
   "execution_count": null,
   "metadata": {
    "cell_id": "1f9cbe76-93df-4b7c-b075-82f4e5e50437",
    "deepnote_cell_type": "code",
    "deepnote_output_heights": [
     597,
     597
    ],
    "deepnote_to_be_reexecuted": false,
    "execution_millis": 43421,
    "source_hash": "b3eb46c",
    "tags": []
   },
   "outputs": [],
   "source": [
    "resample_period=\"15min\"\n",
    "\n",
    "configs = {\n",
    "    \"baseline\": Greenhouse(resample_period=resample_period, block_sunlight=True, airflow_mode=\"CONST:0\"),\n",
    "    \"solarbrite\": Greenhouse(resample_period=resample_period, roof_panel_type=\"solarbrite\"),\n",
    "    \"insolight\": Greenhouse(resample_period=resample_period, roof_panel_type=\"insolight\"),\n",
    "    \"polycarbonate\": Greenhouse(resample_period=resample_period, roof_panel_type=\"polycarbonate\"),\n",
    "}\n",
    "\n",
    "dates = {\n",
    "    \"winter\": [\"2020-01-01\", \"2020-01-02\"],\n",
    "    \"spring\": [\"2020-03-01\", \"2020-03-02\"],\n",
    "    \"summer\": [\"2020-06-01\", \"2020-06-02\"],\n",
    "    \"fall\": [\"2020-09-01\", \"2020-09-02\"]\n",
    "}\n",
    "\n",
    "dfs = {}\n",
    "results = []\n",
    "for config_type in configs:\n",
    "    dfs[config_type] = {}\n",
    "    greenhouse = configs[config_type]\n",
    "\n",
    "    results_of_date = {}\n",
    "    for date_type in dates:\n",
    "        date_range = dates[date_type]\n",
    "\n",
    "        df = run_simulation(greenhouse, date_range, resample_period)\n",
    "\n",
    "        total_cost = get_total_cost(df, greenhouse)\n",
    "\n",
    "        dfs[config_type][date_type] = df\n",
    "        print(f\"Simulation done for {config_type} - {date_type}\")\n",
    "        results_of_date[f\"cost_{date_type}\"] = round(total_cost, 2)\n",
    "\n",
    "    results.append({\n",
    "        \"config_type\": config_type,\n",
    "        **results_of_date\n",
    "    })\n",
    "\n",
    "results_df = pd.DataFrame(results)"
   ]
  },
  {
   "cell_type": "code",
   "execution_count": null,
   "metadata": {
    "cell_id": "c6a54203-a101-4cd3-b030-c4f4f2349f85",
    "deepnote_cell_type": "code",
    "deepnote_to_be_reexecuted": false,
    "execution_millis": 37,
    "source_hash": "6c74e112",
    "tags": []
   },
   "outputs": [],
   "source": [
    "results_df[\"total_cost\"] = round(results_df[[f\"cost_{date_type}\" for date_type in dates]].sum(axis=1), 2)\n",
    "results_df"
   ]
  },
  {
   "cell_type": "code",
   "execution_count": null,
   "metadata": {
    "cell_id": "13613872-1bcc-4e44-9f3a-6b8eae6cb3c2",
    "deepnote_cell_type": "code",
    "deepnote_output_heights": [
     611
    ],
    "deepnote_to_be_reexecuted": false,
    "execution_millis": 213,
    "source_hash": "c2c1eb91",
    "tags": []
   },
   "outputs": [],
   "source": [
    "plot_in_grid(dfs, \"block_sunlight\", plot_energy)"
   ]
  },
  {
   "cell_type": "code",
   "execution_count": null,
   "metadata": {
    "cell_id": "5acebcab-0d70-4104-8c6c-231c26bca529",
    "deepnote_cell_type": "code",
    "deepnote_output_heights": [
     611
    ],
    "deepnote_to_be_reexecuted": false,
    "execution_millis": 113,
    "source_hash": "dcadd906",
    "tags": []
   },
   "outputs": [],
   "source": [
    "plot_in_grid(dfs, \"with_sunlight\", plot_energy)"
   ]
  },
  {
   "cell_type": "code",
   "execution_count": null,
   "metadata": {
    "cell_id": "38f6b487-4490-4438-a971-02d7eeba4d0c",
    "deepnote_cell_type": "code",
    "deepnote_output_heights": [
     611
    ],
    "deepnote_to_be_reexecuted": true,
    "execution_millis": 153,
    "source_hash": "b6dc987e",
    "tags": []
   },
   "outputs": [],
   "source": [
    "plot_in_grid(dfs, \"3\", plot_energy)"
   ]
  },
  {
   "cell_type": "code",
   "execution_count": null,
   "metadata": {
    "cell_id": "24502851-aaff-4094-8381-4d8552ae7c47",
    "deepnote_cell_type": "code",
    "deepnote_output_heights": [
     1
    ],
    "deepnote_to_be_reexecuted": true,
    "execution_millis": 91,
    "source_hash": "5117bad0",
    "tags": []
   },
   "outputs": [],
   "source": [
    "plot_in_grid(dfs, \"4\", plot_energy)"
   ]
  },
  {
   "cell_type": "code",
   "execution_count": null,
   "metadata": {
    "cell_id": "c0e8cc35-3386-4de6-9b39-7fbe3951d225",
    "deepnote_cell_type": "code",
    "deepnote_output_heights": [
     1
    ],
    "deepnote_to_be_reexecuted": true,
    "execution_millis": 196,
    "source_hash": "dbd0c851",
    "tags": []
   },
   "outputs": [],
   "source": [
    "plot_in_grid(dfs, \"max_temp_18\", plot_temperature)"
   ]
  },
  {
   "cell_type": "code",
   "execution_count": null,
   "metadata": {
    "cell_id": "18ec493d-46ca-404d-9fc3-14271b972395",
    "deepnote_cell_type": "code",
    "deepnote_output_heights": [
     611
    ],
    "deepnote_to_be_reexecuted": true,
    "execution_millis": 286,
    "source_hash": "c2aef407",
    "tags": []
   },
   "outputs": [],
   "source": [
    "plot_in_grid(dfs, \"max_temp_18\", plot_humidity)"
   ]
  },
  {
   "cell_type": "markdown",
   "metadata": {
    "created_in_deepnote_cell": true,
    "deepnote_cell_type": "markdown",
    "tags": []
   },
   "source": [
    "<a style='text-decoration:none;line-height:16px;display:flex;color:#5B5B62;padding:10px;justify-content:end;' href='https://deepnote.com?utm_source=created-in-deepnote-cell&projectId=2f5dc715-67f7-4c8c-98f7-a87b736d3338' target=\"_blank\">\n",
    "<img alt='Created in deepnote.com' style='display:inline;max-height:16px;margin:0px;margin-right:7.5px;' src='data:image/svg+xml;base64,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' > </img>\n",
    "Created in <span style='font-weight:600;margin-left:4px;'>Deepnote</span></a>"
   ]
  }
 ],
 "metadata": {
  "deepnote": {
   "is_reactive": false
  },
  "deepnote_execution_queue": [],
  "deepnote_notebook_id": "b721798c-1b5f-4a46-a6ef-19ada0062391"
 },
 "nbformat": 4,
 "nbformat_minor": 2
}
